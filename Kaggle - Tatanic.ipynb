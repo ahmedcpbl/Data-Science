{
 "cells": [
  {
   "cell_type": "code",
   "execution_count": 684,
   "metadata": {},
   "outputs": [],
   "source": [
    "import pandas as pd\n",
    "import numpy as np"
   ]
  },
  {
   "cell_type": "code",
   "execution_count": 694,
   "metadata": {},
   "outputs": [],
   "source": [
    "train_dataset = pd.read_csv(\"train.csv\")\n",
    "test_dataset = pd.read_csv(\"test.csv\")\n",
    "train_lim = len(train_dataset)\n",
    "dataset = train_dataset.append(test_dataset)"
   ]
  },
  {
   "cell_type": "code",
   "execution_count": 695,
   "metadata": {},
   "outputs": [
    {
     "data": {
      "text/html": [
       "<div>\n",
       "<style scoped>\n",
       "    .dataframe tbody tr th:only-of-type {\n",
       "        vertical-align: middle;\n",
       "    }\n",
       "\n",
       "    .dataframe tbody tr th {\n",
       "        vertical-align: top;\n",
       "    }\n",
       "\n",
       "    .dataframe thead th {\n",
       "        text-align: right;\n",
       "    }\n",
       "</style>\n",
       "<table border=\"1\" class=\"dataframe\">\n",
       "  <thead>\n",
       "    <tr style=\"text-align: right;\">\n",
       "      <th></th>\n",
       "      <th>Age</th>\n",
       "      <th>Cabin</th>\n",
       "      <th>Embarked</th>\n",
       "      <th>Fare</th>\n",
       "      <th>Name</th>\n",
       "      <th>Parch</th>\n",
       "      <th>PassengerId</th>\n",
       "      <th>Pclass</th>\n",
       "      <th>Sex</th>\n",
       "      <th>SibSp</th>\n",
       "      <th>Survived</th>\n",
       "      <th>Ticket</th>\n",
       "    </tr>\n",
       "  </thead>\n",
       "  <tbody>\n",
       "    <tr>\n",
       "      <th>0</th>\n",
       "      <td>22.0</td>\n",
       "      <td>NaN</td>\n",
       "      <td>S</td>\n",
       "      <td>7.2500</td>\n",
       "      <td>Braund, Mr. Owen Harris</td>\n",
       "      <td>0</td>\n",
       "      <td>1</td>\n",
       "      <td>3</td>\n",
       "      <td>male</td>\n",
       "      <td>1</td>\n",
       "      <td>0.0</td>\n",
       "      <td>A/5 21171</td>\n",
       "    </tr>\n",
       "    <tr>\n",
       "      <th>1</th>\n",
       "      <td>38.0</td>\n",
       "      <td>C85</td>\n",
       "      <td>C</td>\n",
       "      <td>71.2833</td>\n",
       "      <td>Cumings, Mrs. John Bradley (Florence Briggs Th...</td>\n",
       "      <td>0</td>\n",
       "      <td>2</td>\n",
       "      <td>1</td>\n",
       "      <td>female</td>\n",
       "      <td>1</td>\n",
       "      <td>1.0</td>\n",
       "      <td>PC 17599</td>\n",
       "    </tr>\n",
       "    <tr>\n",
       "      <th>2</th>\n",
       "      <td>26.0</td>\n",
       "      <td>NaN</td>\n",
       "      <td>S</td>\n",
       "      <td>7.9250</td>\n",
       "      <td>Heikkinen, Miss. Laina</td>\n",
       "      <td>0</td>\n",
       "      <td>3</td>\n",
       "      <td>3</td>\n",
       "      <td>female</td>\n",
       "      <td>0</td>\n",
       "      <td>1.0</td>\n",
       "      <td>STON/O2. 3101282</td>\n",
       "    </tr>\n",
       "    <tr>\n",
       "      <th>3</th>\n",
       "      <td>35.0</td>\n",
       "      <td>C123</td>\n",
       "      <td>S</td>\n",
       "      <td>53.1000</td>\n",
       "      <td>Futrelle, Mrs. Jacques Heath (Lily May Peel)</td>\n",
       "      <td>0</td>\n",
       "      <td>4</td>\n",
       "      <td>1</td>\n",
       "      <td>female</td>\n",
       "      <td>1</td>\n",
       "      <td>1.0</td>\n",
       "      <td>113803</td>\n",
       "    </tr>\n",
       "    <tr>\n",
       "      <th>4</th>\n",
       "      <td>35.0</td>\n",
       "      <td>NaN</td>\n",
       "      <td>S</td>\n",
       "      <td>8.0500</td>\n",
       "      <td>Allen, Mr. William Henry</td>\n",
       "      <td>0</td>\n",
       "      <td>5</td>\n",
       "      <td>3</td>\n",
       "      <td>male</td>\n",
       "      <td>0</td>\n",
       "      <td>0.0</td>\n",
       "      <td>373450</td>\n",
       "    </tr>\n",
       "    <tr>\n",
       "      <th>5</th>\n",
       "      <td>NaN</td>\n",
       "      <td>NaN</td>\n",
       "      <td>Q</td>\n",
       "      <td>8.4583</td>\n",
       "      <td>Moran, Mr. James</td>\n",
       "      <td>0</td>\n",
       "      <td>6</td>\n",
       "      <td>3</td>\n",
       "      <td>male</td>\n",
       "      <td>0</td>\n",
       "      <td>0.0</td>\n",
       "      <td>330877</td>\n",
       "    </tr>\n",
       "    <tr>\n",
       "      <th>6</th>\n",
       "      <td>54.0</td>\n",
       "      <td>E46</td>\n",
       "      <td>S</td>\n",
       "      <td>51.8625</td>\n",
       "      <td>McCarthy, Mr. Timothy J</td>\n",
       "      <td>0</td>\n",
       "      <td>7</td>\n",
       "      <td>1</td>\n",
       "      <td>male</td>\n",
       "      <td>0</td>\n",
       "      <td>0.0</td>\n",
       "      <td>17463</td>\n",
       "    </tr>\n",
       "    <tr>\n",
       "      <th>7</th>\n",
       "      <td>2.0</td>\n",
       "      <td>NaN</td>\n",
       "      <td>S</td>\n",
       "      <td>21.0750</td>\n",
       "      <td>Palsson, Master. Gosta Leonard</td>\n",
       "      <td>1</td>\n",
       "      <td>8</td>\n",
       "      <td>3</td>\n",
       "      <td>male</td>\n",
       "      <td>3</td>\n",
       "      <td>0.0</td>\n",
       "      <td>349909</td>\n",
       "    </tr>\n",
       "    <tr>\n",
       "      <th>8</th>\n",
       "      <td>27.0</td>\n",
       "      <td>NaN</td>\n",
       "      <td>S</td>\n",
       "      <td>11.1333</td>\n",
       "      <td>Johnson, Mrs. Oscar W (Elisabeth Vilhelmina Berg)</td>\n",
       "      <td>2</td>\n",
       "      <td>9</td>\n",
       "      <td>3</td>\n",
       "      <td>female</td>\n",
       "      <td>0</td>\n",
       "      <td>1.0</td>\n",
       "      <td>347742</td>\n",
       "    </tr>\n",
       "    <tr>\n",
       "      <th>9</th>\n",
       "      <td>14.0</td>\n",
       "      <td>NaN</td>\n",
       "      <td>C</td>\n",
       "      <td>30.0708</td>\n",
       "      <td>Nasser, Mrs. Nicholas (Adele Achem)</td>\n",
       "      <td>0</td>\n",
       "      <td>10</td>\n",
       "      <td>2</td>\n",
       "      <td>female</td>\n",
       "      <td>1</td>\n",
       "      <td>1.0</td>\n",
       "      <td>237736</td>\n",
       "    </tr>\n",
       "  </tbody>\n",
       "</table>\n",
       "</div>"
      ],
      "text/plain": [
       "    Age Cabin Embarked     Fare  \\\n",
       "0  22.0   NaN        S   7.2500   \n",
       "1  38.0   C85        C  71.2833   \n",
       "2  26.0   NaN        S   7.9250   \n",
       "3  35.0  C123        S  53.1000   \n",
       "4  35.0   NaN        S   8.0500   \n",
       "5   NaN   NaN        Q   8.4583   \n",
       "6  54.0   E46        S  51.8625   \n",
       "7   2.0   NaN        S  21.0750   \n",
       "8  27.0   NaN        S  11.1333   \n",
       "9  14.0   NaN        C  30.0708   \n",
       "\n",
       "                                                Name  Parch  PassengerId  \\\n",
       "0                            Braund, Mr. Owen Harris      0            1   \n",
       "1  Cumings, Mrs. John Bradley (Florence Briggs Th...      0            2   \n",
       "2                             Heikkinen, Miss. Laina      0            3   \n",
       "3       Futrelle, Mrs. Jacques Heath (Lily May Peel)      0            4   \n",
       "4                           Allen, Mr. William Henry      0            5   \n",
       "5                                   Moran, Mr. James      0            6   \n",
       "6                            McCarthy, Mr. Timothy J      0            7   \n",
       "7                     Palsson, Master. Gosta Leonard      1            8   \n",
       "8  Johnson, Mrs. Oscar W (Elisabeth Vilhelmina Berg)      2            9   \n",
       "9                Nasser, Mrs. Nicholas (Adele Achem)      0           10   \n",
       "\n",
       "   Pclass     Sex  SibSp  Survived            Ticket  \n",
       "0       3    male      1       0.0         A/5 21171  \n",
       "1       1  female      1       1.0          PC 17599  \n",
       "2       3  female      0       1.0  STON/O2. 3101282  \n",
       "3       1  female      1       1.0            113803  \n",
       "4       3    male      0       0.0            373450  \n",
       "5       3    male      0       0.0            330877  \n",
       "6       1    male      0       0.0             17463  \n",
       "7       3    male      3       0.0            349909  \n",
       "8       3  female      0       1.0            347742  \n",
       "9       2  female      1       1.0            237736  "
      ]
     },
     "execution_count": 695,
     "metadata": {},
     "output_type": "execute_result"
    }
   ],
   "source": [
    "dataset.head(10)"
   ]
  },
  {
   "cell_type": "code",
   "execution_count": 696,
   "metadata": {},
   "outputs": [
    {
     "name": "stdout",
     "output_type": "stream",
     "text": [
      "<class 'pandas.core.frame.DataFrame'>\n",
      "Int64Index: 1309 entries, 0 to 417\n",
      "Data columns (total 12 columns):\n",
      "Age            1046 non-null float64\n",
      "Cabin          295 non-null object\n",
      "Embarked       1307 non-null object\n",
      "Fare           1308 non-null float64\n",
      "Name           1309 non-null object\n",
      "Parch          1309 non-null int64\n",
      "PassengerId    1309 non-null int64\n",
      "Pclass         1309 non-null int64\n",
      "Sex            1309 non-null object\n",
      "SibSp          1309 non-null int64\n",
      "Survived       891 non-null float64\n",
      "Ticket         1309 non-null object\n",
      "dtypes: float64(3), int64(4), object(5)\n",
      "memory usage: 132.9+ KB\n"
     ]
    }
   ],
   "source": [
    "dataset.info()"
   ]
  },
  {
   "cell_type": "markdown",
   "metadata": {},
   "source": [
    "**Cabin**, **Age** and **Embarked** attributes are sometimes misssing, since their count is less than 891"
   ]
  },
  {
   "cell_type": "code",
   "execution_count": 697,
   "metadata": {},
   "outputs": [
    {
     "data": {
      "text/plain": [
       "male      843\n",
       "female    466\n",
       "Name: Sex, dtype: int64"
      ]
     },
     "execution_count": 697,
     "metadata": {},
     "output_type": "execute_result"
    }
   ],
   "source": [
    "dataset[\"Sex\"].value_counts()"
   ]
  },
  {
   "cell_type": "code",
   "execution_count": 698,
   "metadata": {},
   "outputs": [
    {
     "data": {
      "text/plain": [
       "S    914\n",
       "C    270\n",
       "Q    123\n",
       "Name: Embarked, dtype: int64"
      ]
     },
     "execution_count": 698,
     "metadata": {},
     "output_type": "execute_result"
    }
   ],
   "source": [
    "dataset[\"Embarked\"].value_counts()"
   ]
  },
  {
   "cell_type": "code",
   "execution_count": 699,
   "metadata": {},
   "outputs": [
    {
     "data": {
      "text/plain": [
       "3    709\n",
       "1    323\n",
       "2    277\n",
       "Name: Pclass, dtype: int64"
      ]
     },
     "execution_count": 699,
     "metadata": {},
     "output_type": "execute_result"
    }
   ],
   "source": [
    "dataset[\"Pclass\"].value_counts()"
   ]
  },
  {
   "cell_type": "code",
   "execution_count": 700,
   "metadata": {},
   "outputs": [
    {
     "name": "stdout",
     "output_type": "stream",
     "text": [
      "<class 'pandas.core.frame.DataFrame'>\n",
      "Int64Index: 1309 entries, 0 to 417\n",
      "Data columns (total 12 columns):\n",
      "Age            1046 non-null float64\n",
      "Cabin          295 non-null object\n",
      "Embarked       1307 non-null object\n",
      "Fare           1308 non-null float64\n",
      "Name           1309 non-null object\n",
      "Parch          1309 non-null int64\n",
      "PassengerId    1309 non-null int64\n",
      "Pclass         1309 non-null int64\n",
      "Sex            1309 non-null object\n",
      "SibSp          1309 non-null int64\n",
      "Survived       891 non-null float64\n",
      "Ticket         1309 non-null object\n",
      "dtypes: float64(3), int64(4), object(5)\n",
      "memory usage: 132.9+ KB\n"
     ]
    }
   ],
   "source": [
    "dataset.info()"
   ]
  },
  {
   "cell_type": "markdown",
   "metadata": {},
   "source": [
    "## Creating Pipelines"
   ]
  },
  {
   "cell_type": "markdown",
   "metadata": {},
   "source": [
    "First, the numerical pipeline"
   ]
  },
  {
   "cell_type": "code",
   "execution_count": 701,
   "metadata": {},
   "outputs": [],
   "source": [
    "from sklearn.base import TransformerMixin, BaseEstimator\n",
    "\n",
    "class DataFrameSelector(TransformerMixin, BaseEstimator):\n",
    "    def __init__(self, attribute_names):\n",
    "        self.attribute_names = attribute_names\n",
    "    def fit(self, X, y=None):\n",
    "        return self\n",
    "    def transform(self, X):\n",
    "        return X[self.attribute_names]"
   ]
  },
  {
   "cell_type": "code",
   "execution_count": 702,
   "metadata": {},
   "outputs": [],
   "source": [
    "class RelativesOnBoardAdder(TransformerMixin, BaseEstimator):\n",
    "    def fit(self, X, y=None):\n",
    "        return self\n",
    "    def transform(self, X):\n",
    "        X[\"RelativesOnBoard\"] = X[\"SibSp\"] + X[\"Parch\"]\n",
    "        return X"
   ]
  },
  {
   "cell_type": "code",
   "execution_count": 703,
   "metadata": {},
   "outputs": [],
   "source": [
    "class AgeBucketAdder(TransformerMixin, BaseEstimator):\n",
    "    def __init__(self, bucket_size):\n",
    "        self.bucket_size = bucket_size\n",
    "    def fit(self, X, y=None):\n",
    "        return self\n",
    "    def transform(self, X):\n",
    "        X[\"AgeBucket\"] = X[\"Age\"] // self.bucket_size\n",
    "        return X"
   ]
  },
  {
   "cell_type": "code",
   "execution_count": 704,
   "metadata": {},
   "outputs": [],
   "source": [
    "import re\n",
    "class TitleAdder(TransformerMixin, BaseEstimator):\n",
    "    def fit(self, X, y=None):\n",
    "        return self\n",
    "    def transform(self, X):\n",
    "        X[\"Title\"] = X.Name.apply(lambda x : x.split(',')[1].split('.')[0][1:])\n",
    "        X[\"Title\"] = X[\"Title\"].replace({'Ms':'Miss', 'Mlle':'Miss', 'Mme':'Mrs'})\n",
    "        X[\"Title\"] = X[\"Title\"].replace(['Dr', 'Rev', 'Major', 'Col', 'Lady', 'the Countess', 'Jonkheer', 'Capt', 'Don', 'Sir'], 'Rare')\n",
    "        return X"
   ]
  },
  {
   "cell_type": "code",
   "execution_count": 705,
   "metadata": {},
   "outputs": [],
   "source": [
    "from sklearn.preprocessing import Imputer\n",
    "\n",
    "class CustomImputer(TransformerMixin, BaseEstimator):\n",
    "    def __init__(self, strategy):\n",
    "        self.strategy = strategy\n",
    "    def fit(self, X, y=None):\n",
    "        return self\n",
    "    def transform(self, X):\n",
    "        imp = Imputer(strategy=self.strategy)\n",
    "        X_imputed = pd.DataFrame(imp.fit_transform(X))\n",
    "        X_imputed.columns = X.columns\n",
    "        X_imputed.index = X.index\n",
    "        return X_imputed"
   ]
  },
  {
   "cell_type": "code",
   "execution_count": 706,
   "metadata": {},
   "outputs": [],
   "source": [
    "from sklearn.pipeline import Pipeline\n",
    "\n",
    "num_pipeline = Pipeline([\n",
    "    ('numerical_selector', DataFrameSelector([\"SibSp\", \"Parch\", \"Fare\"])),\n",
    "    ('imputer', CustomImputer('median')),\n",
    "    ('relatives_on_board_adder', RelativesOnBoardAdder()),\n",
    "    ('final_numerical_selector', DataFrameSelector([\"RelativesOnBoard\", \"Fare\"]))\n",
    "])"
   ]
  },
  {
   "cell_type": "code",
   "execution_count": 707,
   "metadata": {},
   "outputs": [
    {
     "data": {
      "text/html": [
       "<div>\n",
       "<style scoped>\n",
       "    .dataframe tbody tr th:only-of-type {\n",
       "        vertical-align: middle;\n",
       "    }\n",
       "\n",
       "    .dataframe tbody tr th {\n",
       "        vertical-align: top;\n",
       "    }\n",
       "\n",
       "    .dataframe thead th {\n",
       "        text-align: right;\n",
       "    }\n",
       "</style>\n",
       "<table border=\"1\" class=\"dataframe\">\n",
       "  <thead>\n",
       "    <tr style=\"text-align: right;\">\n",
       "      <th></th>\n",
       "      <th>RelativesOnBoard</th>\n",
       "      <th>Fare</th>\n",
       "    </tr>\n",
       "  </thead>\n",
       "  <tbody>\n",
       "    <tr>\n",
       "      <th>0</th>\n",
       "      <td>1.0</td>\n",
       "      <td>7.2500</td>\n",
       "    </tr>\n",
       "    <tr>\n",
       "      <th>1</th>\n",
       "      <td>1.0</td>\n",
       "      <td>71.2833</td>\n",
       "    </tr>\n",
       "    <tr>\n",
       "      <th>2</th>\n",
       "      <td>0.0</td>\n",
       "      <td>7.9250</td>\n",
       "    </tr>\n",
       "    <tr>\n",
       "      <th>3</th>\n",
       "      <td>1.0</td>\n",
       "      <td>53.1000</td>\n",
       "    </tr>\n",
       "    <tr>\n",
       "      <th>4</th>\n",
       "      <td>0.0</td>\n",
       "      <td>8.0500</td>\n",
       "    </tr>\n",
       "    <tr>\n",
       "      <th>5</th>\n",
       "      <td>0.0</td>\n",
       "      <td>8.4583</td>\n",
       "    </tr>\n",
       "    <tr>\n",
       "      <th>6</th>\n",
       "      <td>0.0</td>\n",
       "      <td>51.8625</td>\n",
       "    </tr>\n",
       "    <tr>\n",
       "      <th>7</th>\n",
       "      <td>4.0</td>\n",
       "      <td>21.0750</td>\n",
       "    </tr>\n",
       "    <tr>\n",
       "      <th>8</th>\n",
       "      <td>2.0</td>\n",
       "      <td>11.1333</td>\n",
       "    </tr>\n",
       "    <tr>\n",
       "      <th>9</th>\n",
       "      <td>1.0</td>\n",
       "      <td>30.0708</td>\n",
       "    </tr>\n",
       "    <tr>\n",
       "      <th>10</th>\n",
       "      <td>2.0</td>\n",
       "      <td>16.7000</td>\n",
       "    </tr>\n",
       "    <tr>\n",
       "      <th>11</th>\n",
       "      <td>0.0</td>\n",
       "      <td>26.5500</td>\n",
       "    </tr>\n",
       "    <tr>\n",
       "      <th>12</th>\n",
       "      <td>0.0</td>\n",
       "      <td>8.0500</td>\n",
       "    </tr>\n",
       "    <tr>\n",
       "      <th>13</th>\n",
       "      <td>6.0</td>\n",
       "      <td>31.2750</td>\n",
       "    </tr>\n",
       "    <tr>\n",
       "      <th>14</th>\n",
       "      <td>0.0</td>\n",
       "      <td>7.8542</td>\n",
       "    </tr>\n",
       "    <tr>\n",
       "      <th>15</th>\n",
       "      <td>0.0</td>\n",
       "      <td>16.0000</td>\n",
       "    </tr>\n",
       "    <tr>\n",
       "      <th>16</th>\n",
       "      <td>5.0</td>\n",
       "      <td>29.1250</td>\n",
       "    </tr>\n",
       "    <tr>\n",
       "      <th>17</th>\n",
       "      <td>0.0</td>\n",
       "      <td>13.0000</td>\n",
       "    </tr>\n",
       "    <tr>\n",
       "      <th>18</th>\n",
       "      <td>1.0</td>\n",
       "      <td>18.0000</td>\n",
       "    </tr>\n",
       "    <tr>\n",
       "      <th>19</th>\n",
       "      <td>0.0</td>\n",
       "      <td>7.2250</td>\n",
       "    </tr>\n",
       "    <tr>\n",
       "      <th>20</th>\n",
       "      <td>0.0</td>\n",
       "      <td>26.0000</td>\n",
       "    </tr>\n",
       "    <tr>\n",
       "      <th>21</th>\n",
       "      <td>0.0</td>\n",
       "      <td>13.0000</td>\n",
       "    </tr>\n",
       "    <tr>\n",
       "      <th>22</th>\n",
       "      <td>0.0</td>\n",
       "      <td>8.0292</td>\n",
       "    </tr>\n",
       "    <tr>\n",
       "      <th>23</th>\n",
       "      <td>0.0</td>\n",
       "      <td>35.5000</td>\n",
       "    </tr>\n",
       "    <tr>\n",
       "      <th>24</th>\n",
       "      <td>4.0</td>\n",
       "      <td>21.0750</td>\n",
       "    </tr>\n",
       "    <tr>\n",
       "      <th>25</th>\n",
       "      <td>6.0</td>\n",
       "      <td>31.3875</td>\n",
       "    </tr>\n",
       "    <tr>\n",
       "      <th>26</th>\n",
       "      <td>0.0</td>\n",
       "      <td>7.2250</td>\n",
       "    </tr>\n",
       "    <tr>\n",
       "      <th>27</th>\n",
       "      <td>5.0</td>\n",
       "      <td>263.0000</td>\n",
       "    </tr>\n",
       "    <tr>\n",
       "      <th>28</th>\n",
       "      <td>0.0</td>\n",
       "      <td>7.8792</td>\n",
       "    </tr>\n",
       "    <tr>\n",
       "      <th>29</th>\n",
       "      <td>0.0</td>\n",
       "      <td>7.8958</td>\n",
       "    </tr>\n",
       "    <tr>\n",
       "      <th>...</th>\n",
       "      <td>...</td>\n",
       "      <td>...</td>\n",
       "    </tr>\n",
       "    <tr>\n",
       "      <th>388</th>\n",
       "      <td>0.0</td>\n",
       "      <td>7.7500</td>\n",
       "    </tr>\n",
       "    <tr>\n",
       "      <th>389</th>\n",
       "      <td>4.0</td>\n",
       "      <td>21.0750</td>\n",
       "    </tr>\n",
       "    <tr>\n",
       "      <th>390</th>\n",
       "      <td>0.0</td>\n",
       "      <td>93.5000</td>\n",
       "    </tr>\n",
       "    <tr>\n",
       "      <th>391</th>\n",
       "      <td>1.0</td>\n",
       "      <td>39.4000</td>\n",
       "    </tr>\n",
       "    <tr>\n",
       "      <th>392</th>\n",
       "      <td>2.0</td>\n",
       "      <td>20.2500</td>\n",
       "    </tr>\n",
       "    <tr>\n",
       "      <th>393</th>\n",
       "      <td>0.0</td>\n",
       "      <td>10.5000</td>\n",
       "    </tr>\n",
       "    <tr>\n",
       "      <th>394</th>\n",
       "      <td>4.0</td>\n",
       "      <td>22.0250</td>\n",
       "    </tr>\n",
       "    <tr>\n",
       "      <th>395</th>\n",
       "      <td>1.0</td>\n",
       "      <td>60.0000</td>\n",
       "    </tr>\n",
       "    <tr>\n",
       "      <th>396</th>\n",
       "      <td>0.0</td>\n",
       "      <td>7.2500</td>\n",
       "    </tr>\n",
       "    <tr>\n",
       "      <th>397</th>\n",
       "      <td>2.0</td>\n",
       "      <td>79.2000</td>\n",
       "    </tr>\n",
       "    <tr>\n",
       "      <th>398</th>\n",
       "      <td>0.0</td>\n",
       "      <td>7.7750</td>\n",
       "    </tr>\n",
       "    <tr>\n",
       "      <th>399</th>\n",
       "      <td>0.0</td>\n",
       "      <td>7.7333</td>\n",
       "    </tr>\n",
       "    <tr>\n",
       "      <th>400</th>\n",
       "      <td>0.0</td>\n",
       "      <td>164.8667</td>\n",
       "    </tr>\n",
       "    <tr>\n",
       "      <th>401</th>\n",
       "      <td>1.0</td>\n",
       "      <td>21.0000</td>\n",
       "    </tr>\n",
       "    <tr>\n",
       "      <th>402</th>\n",
       "      <td>1.0</td>\n",
       "      <td>59.4000</td>\n",
       "    </tr>\n",
       "    <tr>\n",
       "      <th>403</th>\n",
       "      <td>0.0</td>\n",
       "      <td>47.1000</td>\n",
       "    </tr>\n",
       "    <tr>\n",
       "      <th>404</th>\n",
       "      <td>1.0</td>\n",
       "      <td>27.7208</td>\n",
       "    </tr>\n",
       "    <tr>\n",
       "      <th>405</th>\n",
       "      <td>0.0</td>\n",
       "      <td>13.8625</td>\n",
       "    </tr>\n",
       "    <tr>\n",
       "      <th>406</th>\n",
       "      <td>1.0</td>\n",
       "      <td>10.5000</td>\n",
       "    </tr>\n",
       "    <tr>\n",
       "      <th>407</th>\n",
       "      <td>2.0</td>\n",
       "      <td>211.5000</td>\n",
       "    </tr>\n",
       "    <tr>\n",
       "      <th>408</th>\n",
       "      <td>0.0</td>\n",
       "      <td>7.7208</td>\n",
       "    </tr>\n",
       "    <tr>\n",
       "      <th>409</th>\n",
       "      <td>2.0</td>\n",
       "      <td>13.7750</td>\n",
       "    </tr>\n",
       "    <tr>\n",
       "      <th>410</th>\n",
       "      <td>0.0</td>\n",
       "      <td>7.7500</td>\n",
       "    </tr>\n",
       "    <tr>\n",
       "      <th>411</th>\n",
       "      <td>1.0</td>\n",
       "      <td>90.0000</td>\n",
       "    </tr>\n",
       "    <tr>\n",
       "      <th>412</th>\n",
       "      <td>0.0</td>\n",
       "      <td>7.7750</td>\n",
       "    </tr>\n",
       "    <tr>\n",
       "      <th>413</th>\n",
       "      <td>0.0</td>\n",
       "      <td>8.0500</td>\n",
       "    </tr>\n",
       "    <tr>\n",
       "      <th>414</th>\n",
       "      <td>0.0</td>\n",
       "      <td>108.9000</td>\n",
       "    </tr>\n",
       "    <tr>\n",
       "      <th>415</th>\n",
       "      <td>0.0</td>\n",
       "      <td>7.2500</td>\n",
       "    </tr>\n",
       "    <tr>\n",
       "      <th>416</th>\n",
       "      <td>0.0</td>\n",
       "      <td>8.0500</td>\n",
       "    </tr>\n",
       "    <tr>\n",
       "      <th>417</th>\n",
       "      <td>2.0</td>\n",
       "      <td>22.3583</td>\n",
       "    </tr>\n",
       "  </tbody>\n",
       "</table>\n",
       "<p>1309 rows × 2 columns</p>\n",
       "</div>"
      ],
      "text/plain": [
       "     RelativesOnBoard      Fare\n",
       "0                 1.0    7.2500\n",
       "1                 1.0   71.2833\n",
       "2                 0.0    7.9250\n",
       "3                 1.0   53.1000\n",
       "4                 0.0    8.0500\n",
       "5                 0.0    8.4583\n",
       "6                 0.0   51.8625\n",
       "7                 4.0   21.0750\n",
       "8                 2.0   11.1333\n",
       "9                 1.0   30.0708\n",
       "10                2.0   16.7000\n",
       "11                0.0   26.5500\n",
       "12                0.0    8.0500\n",
       "13                6.0   31.2750\n",
       "14                0.0    7.8542\n",
       "15                0.0   16.0000\n",
       "16                5.0   29.1250\n",
       "17                0.0   13.0000\n",
       "18                1.0   18.0000\n",
       "19                0.0    7.2250\n",
       "20                0.0   26.0000\n",
       "21                0.0   13.0000\n",
       "22                0.0    8.0292\n",
       "23                0.0   35.5000\n",
       "24                4.0   21.0750\n",
       "25                6.0   31.3875\n",
       "26                0.0    7.2250\n",
       "27                5.0  263.0000\n",
       "28                0.0    7.8792\n",
       "29                0.0    7.8958\n",
       "..                ...       ...\n",
       "388               0.0    7.7500\n",
       "389               4.0   21.0750\n",
       "390               0.0   93.5000\n",
       "391               1.0   39.4000\n",
       "392               2.0   20.2500\n",
       "393               0.0   10.5000\n",
       "394               4.0   22.0250\n",
       "395               1.0   60.0000\n",
       "396               0.0    7.2500\n",
       "397               2.0   79.2000\n",
       "398               0.0    7.7750\n",
       "399               0.0    7.7333\n",
       "400               0.0  164.8667\n",
       "401               1.0   21.0000\n",
       "402               1.0   59.4000\n",
       "403               0.0   47.1000\n",
       "404               1.0   27.7208\n",
       "405               0.0   13.8625\n",
       "406               1.0   10.5000\n",
       "407               2.0  211.5000\n",
       "408               0.0    7.7208\n",
       "409               2.0   13.7750\n",
       "410               0.0    7.7500\n",
       "411               1.0   90.0000\n",
       "412               0.0    7.7750\n",
       "413               0.0    8.0500\n",
       "414               0.0  108.9000\n",
       "415               0.0    7.2500\n",
       "416               0.0    8.0500\n",
       "417               2.0   22.3583\n",
       "\n",
       "[1309 rows x 2 columns]"
      ]
     },
     "execution_count": 707,
     "metadata": {},
     "output_type": "execute_result"
    }
   ],
   "source": [
    "num_pipeline.fit_transform(dataset)"
   ]
  },
  {
   "cell_type": "markdown",
   "metadata": {},
   "source": [
    "Then, then the categorical variable"
   ]
  },
  {
   "cell_type": "code",
   "execution_count": 708,
   "metadata": {},
   "outputs": [],
   "source": [
    "# @hidden cell\n",
    "# Definition of the CategoricalEncoder class, copied from PR #9151.\n",
    "# Just run this cell, or copy it to your code, no need to try to\n",
    "# understand every line.\n",
    "\n",
    "from sklearn.base import BaseEstimator, TransformerMixin\n",
    "from sklearn.utils import check_array\n",
    "from sklearn.preprocessing import LabelEncoder\n",
    "from scipy import sparse\n",
    "\n",
    "class CategoricalEncoder(BaseEstimator, TransformerMixin):\n",
    "    \"\"\"Encode categorical features as a numeric array.\n",
    "    The input to this transformer should be a matrix of integers or strings,\n",
    "    denoting the values taken on by categorical (discrete) features.\n",
    "    The features can be encoded using a one-hot aka one-of-K scheme\n",
    "    (``encoding='onehot'``, the default) or converted to ordinal integers\n",
    "    (``encoding='ordinal'``).\n",
    "    This encoding is needed for feeding categorical data to many scikit-learn\n",
    "    estimators, notably linear models and SVMs with the standard kernels.\n",
    "    Read more in the :ref:`User Guide <preprocessing_categorical_features>`.\n",
    "    Parameters\n",
    "    ----------\n",
    "    encoding : str, 'onehot', 'onehot-dense' or 'ordinal'\n",
    "        The type of encoding to use (default is 'onehot'):\n",
    "        - 'onehot': encode the features using a one-hot aka one-of-K scheme\n",
    "          (or also called 'dummy' encoding). This creates a binary column for\n",
    "          each category and returns a sparse matrix.\n",
    "        - 'onehot-dense': the same as 'onehot' but returns a dense array\n",
    "          instead of a sparse matrix.\n",
    "        - 'ordinal': encode the features as ordinal integers. This results in\n",
    "          a single column of integers (0 to n_categories - 1) per feature.\n",
    "    categories : 'auto' or a list of lists/arrays of values.\n",
    "        Categories (unique values) per feature:\n",
    "        - 'auto' : Determine categories automatically from the training data.\n",
    "        - list : ``categories[i]`` holds the categories expected in the ith\n",
    "          column. The passed categories are sorted before encoding the data\n",
    "          (used categories can be found in the ``categories_`` attribute).\n",
    "    dtype : number type, default np.float64\n",
    "        Desired dtype of output.\n",
    "    handle_unknown : 'error' (default) or 'ignore'\n",
    "        Whether to raise an error or ignore if a unknown categorical feature is\n",
    "        present during transform (default is to raise). When this is parameter\n",
    "        is set to 'ignore' and an unknown category is encountered during\n",
    "        transform, the resulting one-hot encoded columns for this feature\n",
    "        will be all zeros.\n",
    "        Ignoring unknown categories is not supported for\n",
    "        ``encoding='ordinal'``.\n",
    "    Attributes\n",
    "    ----------\n",
    "    categories_ : list of arrays\n",
    "        The categories of each feature determined during fitting. When\n",
    "        categories were specified manually, this holds the sorted categories\n",
    "        (in order corresponding with output of `transform`).\n",
    "    Examples\n",
    "    --------\n",
    "    Given a dataset with three features and two samples, we let the encoder\n",
    "    find the maximum value per feature and transform the data to a binary\n",
    "    one-hot encoding.\n",
    "    >>> from sklearn.preprocessing import CategoricalEncoder\n",
    "    >>> enc = CategoricalEncoder(handle_unknown='ignore')\n",
    "    >>> enc.fit([[0, 0, 3], [1, 1, 0], [0, 2, 1], [1, 0, 2]])\n",
    "    ... # doctest: +ELLIPSIS\n",
    "    CategoricalEncoder(categories='auto', dtype=<... 'numpy.float64'>,\n",
    "              encoding='onehot', handle_unknown='ignore')\n",
    "    >>> enc.transform([[0, 1, 1], [1, 0, 4]]).toarray()\n",
    "    array([[ 1.,  0.,  0.,  1.,  0.,  0.,  1.,  0.,  0.],\n",
    "           [ 0.,  1.,  1.,  0.,  0.,  0.,  0.,  0.,  0.]])\n",
    "    See also\n",
    "    --------\n",
    "    sklearn.preprocessing.OneHotEncoder : performs a one-hot encoding of\n",
    "      integer ordinal features. The ``OneHotEncoder assumes`` that input\n",
    "      features take on values in the range ``[0, max(feature)]`` instead of\n",
    "      using the unique values.\n",
    "    sklearn.feature_extraction.DictVectorizer : performs a one-hot encoding of\n",
    "      dictionary items (also handles string-valued features).\n",
    "    sklearn.feature_extraction.FeatureHasher : performs an approximate one-hot\n",
    "      encoding of dictionary items or strings.\n",
    "    \"\"\"\n",
    "\n",
    "    def __init__(self, encoding='onehot', categories='auto', dtype=np.float64,\n",
    "                 handle_unknown='error'):\n",
    "        self.encoding = encoding\n",
    "        self.categories = categories\n",
    "        self.dtype = dtype\n",
    "        self.handle_unknown = handle_unknown\n",
    "\n",
    "    def fit(self, X, y=None):\n",
    "        \"\"\"Fit the CategoricalEncoder to X.\n",
    "        Parameters\n",
    "        ----------\n",
    "        X : array-like, shape [n_samples, n_feature]\n",
    "            The data to determine the categories of each feature.\n",
    "        Returns\n",
    "        -------\n",
    "        self\n",
    "        \"\"\"\n",
    "\n",
    "        if self.encoding not in ['onehot', 'onehot-dense', 'ordinal']:\n",
    "            template = (\"encoding should be either 'onehot', 'onehot-dense' \"\n",
    "                        \"or 'ordinal', got %s\")\n",
    "            raise ValueError(template % self.handle_unknown)\n",
    "\n",
    "        if self.handle_unknown not in ['error', 'ignore']:\n",
    "            template = (\"handle_unknown should be either 'error' or \"\n",
    "                        \"'ignore', got %s\")\n",
    "            raise ValueError(template % self.handle_unknown)\n",
    "\n",
    "        if self.encoding == 'ordinal' and self.handle_unknown == 'ignore':\n",
    "            raise ValueError(\"handle_unknown='ignore' is not supported for\"\n",
    "                             \" encoding='ordinal'\")\n",
    "\n",
    "        X = check_array(X, dtype=np.object, accept_sparse='csc', copy=True)\n",
    "        n_samples, n_features = X.shape\n",
    "\n",
    "        self._label_encoders_ = [LabelEncoder() for _ in range(n_features)]\n",
    "\n",
    "        for i in range(n_features):\n",
    "            le = self._label_encoders_[i]\n",
    "            Xi = X[:, i]\n",
    "            if self.categories == 'auto':\n",
    "                le.fit(Xi)\n",
    "            else:\n",
    "                valid_mask = np.in1d(Xi, self.categories[i])\n",
    "                if not np.all(valid_mask):\n",
    "                    if self.handle_unknown == 'error':\n",
    "                        diff = np.unique(Xi[~valid_mask])\n",
    "                        msg = (\"Found unknown categories {0} in column {1}\"\n",
    "                               \" during fit\".format(diff, i))\n",
    "                        raise ValueError(msg)\n",
    "                le.classes_ = np.array(np.sort(self.categories[i]))\n",
    "\n",
    "        self.categories_ = [le.classes_ for le in self._label_encoders_]\n",
    "\n",
    "        return self\n",
    "\n",
    "    def transform(self, X):\n",
    "        \"\"\"Transform X using one-hot encoding.\n",
    "        Parameters\n",
    "        ----------\n",
    "        X : array-like, shape [n_samples, n_features]\n",
    "            The data to encode.\n",
    "        Returns\n",
    "        -------\n",
    "        X_out : sparse matrix or a 2-d array\n",
    "            Transformed input.\n",
    "        \"\"\"\n",
    "        X = check_array(X, accept_sparse='csc', dtype=np.object, copy=True)\n",
    "        n_samples, n_features = X.shape\n",
    "        X_int = np.zeros_like(X, dtype=np.int)\n",
    "        X_mask = np.ones_like(X, dtype=np.bool)\n",
    "\n",
    "        for i in range(n_features):\n",
    "            valid_mask = np.in1d(X[:, i], self.categories_[i])\n",
    "\n",
    "            if not np.all(valid_mask):\n",
    "                if self.handle_unknown == 'error':\n",
    "                    diff = np.unique(X[~valid_mask, i])\n",
    "                    msg = (\"Found unknown categories {0} in column {1}\"\n",
    "                           \" during transform\".format(diff, i))\n",
    "                    raise ValueError(msg)\n",
    "                else:\n",
    "                    # Set the problematic rows to an acceptable value and\n",
    "                    # continue `The rows are marked `X_mask` and will be\n",
    "                    # removed later.\n",
    "                    X_mask[:, i] = valid_mask\n",
    "                    X[:, i][~valid_mask] = self.categories_[i][0]\n",
    "            X_int[:, i] = self._label_encoders_[i].transform(X[:, i])\n",
    "\n",
    "        if self.encoding == 'ordinal':\n",
    "            return X_int.astype(self.dtype, copy=False)\n",
    "\n",
    "        mask = X_mask.ravel()\n",
    "        n_values = [cats.shape[0] for cats in self.categories_]\n",
    "        n_values = np.array([0] + n_values)\n",
    "        indices = np.cumsum(n_values)\n",
    "\n",
    "        column_indices = (X_int + indices[:-1]).ravel()[mask]\n",
    "        row_indices = np.repeat(np.arange(n_samples, dtype=np.int32),\n",
    "                                n_features)[mask]\n",
    "        data = np.ones(n_samples * n_features)[mask]\n",
    "\n",
    "        out = sparse.csc_matrix((data, (row_indices, column_indices)),\n",
    "                                shape=(n_samples, indices[-1]),\n",
    "                                dtype=self.dtype).tocsr()\n",
    "        if self.encoding == 'onehot-dense':\n",
    "            return out.toarray()\n",
    "        else:\n",
    "            return out"
   ]
  },
  {
   "cell_type": "code",
   "execution_count": 709,
   "metadata": {},
   "outputs": [],
   "source": [
    "class MostFrequentImputer(TransformerMixin, BaseEstimator):\n",
    "    def fit(self, X, y=None):\n",
    "        self.most_frequent = pd.Series([X[c].value_counts().index[0] for c in X], index=X.columns)\n",
    "        return self\n",
    "    def transform(self, X, y=None):\n",
    "        return X.fillna(self.most_frequent)"
   ]
  },
  {
   "cell_type": "code",
   "execution_count": 710,
   "metadata": {},
   "outputs": [],
   "source": [
    "cat_pipeline = Pipeline([\n",
    "    ('title_adder', TitleAdder()),\n",
    "    ('age_bucket_adder', AgeBucketAdder(15)),\n",
    "    ('cat_selector', DataFrameSelector([\"AgeBucket\",\"Pclass\", \"Sex\", \"Embarked\", \"Title\"])),\n",
    "    ('cat_imputer', MostFrequentImputer()),\n",
    "    ('cat_encoder', CategoricalEncoder(encoding='onehot-dense'))\n",
    "])"
   ]
  },
  {
   "cell_type": "code",
   "execution_count": 711,
   "metadata": {},
   "outputs": [
    {
     "data": {
      "text/plain": [
       "(1309, 20)"
      ]
     },
     "execution_count": 711,
     "metadata": {},
     "output_type": "execute_result"
    }
   ],
   "source": [
    "cat_pipeline.fit_transform(dataset).shape"
   ]
  },
  {
   "cell_type": "code",
   "execution_count": 712,
   "metadata": {},
   "outputs": [],
   "source": [
    "#Note that the feature union launchs the pipelins in parallel, and then concatenate the results\n",
    "from sklearn.pipeline import FeatureUnion\n",
    "preprocess_pipeline = FeatureUnion([\n",
    "    ('num_pipeline', num_pipeline),\n",
    "    ('cat_pipeline', cat_pipeline)\n",
    "])"
   ]
  },
  {
   "cell_type": "code",
   "execution_count": 720,
   "metadata": {},
   "outputs": [],
   "source": [
    "def seperate_train_test(dataset, train_lim):\n",
    "    X = preprocess_pipeline.fit_transform(dataset)\n",
    "    return X[:train_lim], dataset[\"Survived\"].head(train_lim), X[train_lim:]"
   ]
  },
  {
   "cell_type": "code",
   "execution_count": 721,
   "metadata": {},
   "outputs": [],
   "source": [
    "X_train, y_train, X_test = seperate_train_test(dataset, train_lim)"
   ]
  },
  {
   "cell_type": "code",
   "execution_count": 717,
   "metadata": {},
   "outputs": [
    {
     "data": {
      "text/plain": [
       "(891, 22)"
      ]
     },
     "execution_count": 717,
     "metadata": {},
     "output_type": "execute_result"
    }
   ],
   "source": [
    "X_train.shape"
   ]
  },
  {
   "cell_type": "code",
   "execution_count": 718,
   "metadata": {},
   "outputs": [
    {
     "data": {
      "text/plain": [
       "(891,)"
      ]
     },
     "execution_count": 718,
     "metadata": {},
     "output_type": "execute_result"
    }
   ],
   "source": [
    "y_train.shape"
   ]
  },
  {
   "cell_type": "code",
   "execution_count": 722,
   "metadata": {},
   "outputs": [
    {
     "data": {
      "text/plain": [
       "(418, 22)"
      ]
     },
     "execution_count": 722,
     "metadata": {},
     "output_type": "execute_result"
    }
   ],
   "source": [
    "X_test.shape"
   ]
  },
  {
   "cell_type": "code",
   "execution_count": 723,
   "metadata": {},
   "outputs": [
    {
     "data": {
      "text/plain": [
       "SVC(C=1.0, cache_size=200, class_weight=None, coef0=0.0,\n",
       "  decision_function_shape='ovr', degree=3, gamma='auto', kernel='rbf',\n",
       "  max_iter=-1, probability=False, random_state=None, shrinking=True,\n",
       "  tol=0.001, verbose=False)"
      ]
     },
     "execution_count": 723,
     "metadata": {},
     "output_type": "execute_result"
    }
   ],
   "source": [
    "from sklearn.svm import SVC\n",
    "\n",
    "svm_clf = SVC()\n",
    "svm_clf.fit(X_train, y_train)"
   ]
  },
  {
   "cell_type": "code",
   "execution_count": 724,
   "metadata": {},
   "outputs": [],
   "source": [
    "from sklearn.model_selection import cross_val_score\n",
    "score = cross_val_score(svm_clf, X_train, y_train, cv=3)"
   ]
  },
  {
   "cell_type": "code",
   "execution_count": 725,
   "metadata": {},
   "outputs": [
    {
     "data": {
      "text/plain": [
       "0.77665544332211"
      ]
     },
     "execution_count": 725,
     "metadata": {},
     "output_type": "execute_result"
    }
   ],
   "source": [
    "score.mean()"
   ]
  },
  {
   "cell_type": "code",
   "execution_count": 726,
   "metadata": {},
   "outputs": [
    {
     "data": {
      "text/plain": [
       "0.8159371492704827"
      ]
     },
     "execution_count": 726,
     "metadata": {},
     "output_type": "execute_result"
    }
   ],
   "source": [
    "from sklearn.ensemble import RandomForestClassifier\n",
    "\n",
    "forest_clf = RandomForestClassifier(random_state=42)\n",
    "score = cross_val_score(forest_clf, X_train, y_train, cv=3)\n",
    "score.mean()"
   ]
  },
  {
   "cell_type": "code",
   "execution_count": 727,
   "metadata": {},
   "outputs": [],
   "source": [
    "from sklearn.model_selection import GridSearchCV\n",
    "\n",
    "grid_param = {\n",
    "    'n_estimators' : [3, 4, 5, 6, 7, 8, 9, 10],\n",
    "    'criterion' : ['gini', 'entropy'],\n",
    "    'max_features' : ['sqrt', 'log2']\n",
    "}\n",
    "\n",
    "grid_search = GridSearchCV(RandomForestClassifier(), grid_param, scoring='accuracy', cv=10,verbose=3)"
   ]
  },
  {
   "cell_type": "code",
   "execution_count": 728,
   "metadata": {},
   "outputs": [
    {
     "name": "stdout",
     "output_type": "stream",
     "text": [
      "Fitting 10 folds for each of 32 candidates, totalling 320 fits\n",
      "[CV] criterion=gini, max_features=sqrt, n_estimators=3 ...............\n",
      "[CV]  criterion=gini, max_features=sqrt, n_estimators=3, score=0.7444444444444445, total=   0.0s\n",
      "[CV] criterion=gini, max_features=sqrt, n_estimators=3 ...............\n",
      "[CV]  criterion=gini, max_features=sqrt, n_estimators=3, score=0.7777777777777778, total=   0.0s\n",
      "[CV] criterion=gini, max_features=sqrt, n_estimators=3 ...............\n",
      "[CV]  criterion=gini, max_features=sqrt, n_estimators=3, score=0.7303370786516854, total=   0.0s\n",
      "[CV] criterion=gini, max_features=sqrt, n_estimators=3 ...............\n",
      "[CV]  criterion=gini, max_features=sqrt, n_estimators=3, score=0.8089887640449438, total=   0.0s\n",
      "[CV] criterion=gini, max_features=sqrt, n_estimators=3 ...............\n",
      "[CV]  criterion=gini, max_features=sqrt, n_estimators=3, score=0.8089887640449438, total=   0.0s\n",
      "[CV] criterion=gini, max_features=sqrt, n_estimators=3 ...............\n",
      "[CV]  criterion=gini, max_features=sqrt, n_estimators=3, score=0.7752808988764045, total=   0.0s\n",
      "[CV] criterion=gini, max_features=sqrt, n_estimators=3 ...............\n",
      "[CV]  criterion=gini, max_features=sqrt, n_estimators=3, score=0.7752808988764045, total=   0.0s\n",
      "[CV] criterion=gini, max_features=sqrt, n_estimators=3 ...............\n",
      "[CV]  criterion=gini, max_features=sqrt, n_estimators=3, score=0.7640449438202247, total=   0.0s\n",
      "[CV] criterion=gini, max_features=sqrt, n_estimators=3 ...............\n",
      "[CV]  criterion=gini, max_features=sqrt, n_estimators=3, score=0.8314606741573034, total=   0.0s\n",
      "[CV] criterion=gini, max_features=sqrt, n_estimators=3 ...............\n",
      "[CV]  criterion=gini, max_features=sqrt, n_estimators=3, score=0.7840909090909091, total=   0.0s\n",
      "[CV] criterion=gini, max_features=sqrt, n_estimators=4 ...............\n",
      "[CV]  criterion=gini, max_features=sqrt, n_estimators=4, score=0.7777777777777778, total=   0.0s\n",
      "[CV] criterion=gini, max_features=sqrt, n_estimators=4 ...............\n",
      "[CV]  criterion=gini, max_features=sqrt, n_estimators=4, score=0.8111111111111111, total=   0.0s\n",
      "[CV] criterion=gini, max_features=sqrt, n_estimators=4 ...............\n"
     ]
    },
    {
     "name": "stderr",
     "output_type": "stream",
     "text": [
      "[Parallel(n_jobs=1)]: Done   1 out of   1 | elapsed:    0.0s remaining:    0.0s\n",
      "[Parallel(n_jobs=1)]: Done   2 out of   2 | elapsed:    0.0s remaining:    0.0s\n"
     ]
    },
    {
     "name": "stdout",
     "output_type": "stream",
     "text": [
      "[CV]  criterion=gini, max_features=sqrt, n_estimators=4, score=0.7415730337078652, total=   0.0s\n",
      "[CV] criterion=gini, max_features=sqrt, n_estimators=4 ...............\n",
      "[CV]  criterion=gini, max_features=sqrt, n_estimators=4, score=0.797752808988764, total=   0.0s\n",
      "[CV] criterion=gini, max_features=sqrt, n_estimators=4 ...............\n",
      "[CV]  criterion=gini, max_features=sqrt, n_estimators=4, score=0.8089887640449438, total=   0.0s\n",
      "[CV] criterion=gini, max_features=sqrt, n_estimators=4 ...............\n",
      "[CV]  criterion=gini, max_features=sqrt, n_estimators=4, score=0.797752808988764, total=   0.0s\n",
      "[CV] criterion=gini, max_features=sqrt, n_estimators=4 ...............\n",
      "[CV]  criterion=gini, max_features=sqrt, n_estimators=4, score=0.8089887640449438, total=   0.0s\n",
      "[CV] criterion=gini, max_features=sqrt, n_estimators=4 ...............\n",
      "[CV]  criterion=gini, max_features=sqrt, n_estimators=4, score=0.7752808988764045, total=   0.0s\n",
      "[CV] criterion=gini, max_features=sqrt, n_estimators=4 ...............\n",
      "[CV]  criterion=gini, max_features=sqrt, n_estimators=4, score=0.8089887640449438, total=   0.0s\n",
      "[CV] criterion=gini, max_features=sqrt, n_estimators=4 ...............\n",
      "[CV]  criterion=gini, max_features=sqrt, n_estimators=4, score=0.8181818181818182, total=   0.0s\n",
      "[CV] criterion=gini, max_features=sqrt, n_estimators=5 ...............\n",
      "[CV]  criterion=gini, max_features=sqrt, n_estimators=5, score=0.7444444444444445, total=   0.0s\n",
      "[CV] criterion=gini, max_features=sqrt, n_estimators=5 ...............\n",
      "[CV]  criterion=gini, max_features=sqrt, n_estimators=5, score=0.8, total=   0.0s\n",
      "[CV] criterion=gini, max_features=sqrt, n_estimators=5 ...............\n",
      "[CV]  criterion=gini, max_features=sqrt, n_estimators=5, score=0.7528089887640449, total=   0.0s\n",
      "[CV] criterion=gini, max_features=sqrt, n_estimators=5 ...............\n",
      "[CV]  criterion=gini, max_features=sqrt, n_estimators=5, score=0.8314606741573034, total=   0.0s\n",
      "[CV] criterion=gini, max_features=sqrt, n_estimators=5 ...............\n",
      "[CV]  criterion=gini, max_features=sqrt, n_estimators=5, score=0.8089887640449438, total=   0.0s\n",
      "[CV] criterion=gini, max_features=sqrt, n_estimators=5 ...............\n",
      "[CV]  criterion=gini, max_features=sqrt, n_estimators=5, score=0.8426966292134831, total=   0.0s\n",
      "[CV] criterion=gini, max_features=sqrt, n_estimators=5 ...............\n",
      "[CV]  criterion=gini, max_features=sqrt, n_estimators=5, score=0.8202247191011236, total=   0.0s\n",
      "[CV] criterion=gini, max_features=sqrt, n_estimators=5 ...............\n",
      "[CV]  criterion=gini, max_features=sqrt, n_estimators=5, score=0.7640449438202247, total=   0.0s\n",
      "[CV] criterion=gini, max_features=sqrt, n_estimators=5 ...............\n",
      "[CV]  criterion=gini, max_features=sqrt, n_estimators=5, score=0.8089887640449438, total=   0.0s\n",
      "[CV] criterion=gini, max_features=sqrt, n_estimators=5 ...............\n",
      "[CV]  criterion=gini, max_features=sqrt, n_estimators=5, score=0.8409090909090909, total=   0.0s\n",
      "[CV] criterion=gini, max_features=sqrt, n_estimators=6 ...............\n",
      "[CV]  criterion=gini, max_features=sqrt, n_estimators=6, score=0.7666666666666667, total=   0.0s\n",
      "[CV] criterion=gini, max_features=sqrt, n_estimators=6 ...............\n",
      "[CV]  criterion=gini, max_features=sqrt, n_estimators=6, score=0.8666666666666667, total=   0.0s\n",
      "[CV] criterion=gini, max_features=sqrt, n_estimators=6 ...............\n",
      "[CV]  criterion=gini, max_features=sqrt, n_estimators=6, score=0.7415730337078652, total=   0.0s\n",
      "[CV] criterion=gini, max_features=sqrt, n_estimators=6 ...............\n",
      "[CV]  criterion=gini, max_features=sqrt, n_estimators=6, score=0.8314606741573034, total=   0.0s\n",
      "[CV] criterion=gini, max_features=sqrt, n_estimators=6 ...............\n",
      "[CV]  criterion=gini, max_features=sqrt, n_estimators=6, score=0.8202247191011236, total=   0.0s\n",
      "[CV] criterion=gini, max_features=sqrt, n_estimators=6 ...............\n",
      "[CV]  criterion=gini, max_features=sqrt, n_estimators=6, score=0.8314606741573034, total=   0.0s\n",
      "[CV] criterion=gini, max_features=sqrt, n_estimators=6 ...............\n",
      "[CV]  criterion=gini, max_features=sqrt, n_estimators=6, score=0.8089887640449438, total=   0.0s\n",
      "[CV] criterion=gini, max_features=sqrt, n_estimators=6 ...............\n",
      "[CV]  criterion=gini, max_features=sqrt, n_estimators=6, score=0.7303370786516854, total=   0.0s\n",
      "[CV] criterion=gini, max_features=sqrt, n_estimators=6 ...............\n",
      "[CV]  criterion=gini, max_features=sqrt, n_estimators=6, score=0.8426966292134831, total=   0.0s\n",
      "[CV] criterion=gini, max_features=sqrt, n_estimators=6 ...............\n",
      "[CV]  criterion=gini, max_features=sqrt, n_estimators=6, score=0.8522727272727273, total=   0.0s\n",
      "[CV] criterion=gini, max_features=sqrt, n_estimators=7 ...............\n",
      "[CV]  criterion=gini, max_features=sqrt, n_estimators=7, score=0.7222222222222222, total=   0.0s\n",
      "[CV] criterion=gini, max_features=sqrt, n_estimators=7 ...............\n",
      "[CV]  criterion=gini, max_features=sqrt, n_estimators=7, score=0.8111111111111111, total=   0.0s\n",
      "[CV] criterion=gini, max_features=sqrt, n_estimators=7 ...............\n",
      "[CV]  criterion=gini, max_features=sqrt, n_estimators=7, score=0.7752808988764045, total=   0.0s\n",
      "[CV] criterion=gini, max_features=sqrt, n_estimators=7 ...............\n",
      "[CV]  criterion=gini, max_features=sqrt, n_estimators=7, score=0.8202247191011236, total=   0.0s\n",
      "[CV] criterion=gini, max_features=sqrt, n_estimators=7 ...............\n",
      "[CV]  criterion=gini, max_features=sqrt, n_estimators=7, score=0.8089887640449438, total=   0.0s\n",
      "[CV] criterion=gini, max_features=sqrt, n_estimators=7 ...............\n",
      "[CV]  criterion=gini, max_features=sqrt, n_estimators=7, score=0.8539325842696629, total=   0.0s\n",
      "[CV] criterion=gini, max_features=sqrt, n_estimators=7 ...............\n",
      "[CV]  criterion=gini, max_features=sqrt, n_estimators=7, score=0.8202247191011236, total=   0.0s\n",
      "[CV] criterion=gini, max_features=sqrt, n_estimators=7 ...............\n",
      "[CV]  criterion=gini, max_features=sqrt, n_estimators=7, score=0.7303370786516854, total=   0.0s\n",
      "[CV] criterion=gini, max_features=sqrt, n_estimators=7 ...............\n",
      "[CV]  criterion=gini, max_features=sqrt, n_estimators=7, score=0.797752808988764, total=   0.0s\n",
      "[CV] criterion=gini, max_features=sqrt, n_estimators=7 ...............\n",
      "[CV]  criterion=gini, max_features=sqrt, n_estimators=7, score=0.8636363636363636, total=   0.0s\n",
      "[CV] criterion=gini, max_features=sqrt, n_estimators=8 ...............\n",
      "[CV]  criterion=gini, max_features=sqrt, n_estimators=8, score=0.7666666666666667, total=   0.0s\n",
      "[CV] criterion=gini, max_features=sqrt, n_estimators=8 ...............\n",
      "[CV]  criterion=gini, max_features=sqrt, n_estimators=8, score=0.8444444444444444, total=   0.0s\n",
      "[CV] criterion=gini, max_features=sqrt, n_estimators=8 ...............\n",
      "[CV]  criterion=gini, max_features=sqrt, n_estimators=8, score=0.7303370786516854, total=   0.0s\n",
      "[CV] criterion=gini, max_features=sqrt, n_estimators=8 ...............\n",
      "[CV]  criterion=gini, max_features=sqrt, n_estimators=8, score=0.8089887640449438, total=   0.0s\n",
      "[CV] criterion=gini, max_features=sqrt, n_estimators=8 ...............\n",
      "[CV]  criterion=gini, max_features=sqrt, n_estimators=8, score=0.8539325842696629, total=   0.0s\n",
      "[CV] criterion=gini, max_features=sqrt, n_estimators=8 ...............\n",
      "[CV]  criterion=gini, max_features=sqrt, n_estimators=8, score=0.8651685393258427, total=   0.0s\n",
      "[CV] criterion=gini, max_features=sqrt, n_estimators=8 ...............\n",
      "[CV]  criterion=gini, max_features=sqrt, n_estimators=8, score=0.8202247191011236, total=   0.0s\n",
      "[CV] criterion=gini, max_features=sqrt, n_estimators=8 ...............\n",
      "[CV]  criterion=gini, max_features=sqrt, n_estimators=8, score=0.7528089887640449, total=   0.0s\n",
      "[CV] criterion=gini, max_features=sqrt, n_estimators=8 ...............\n",
      "[CV]  criterion=gini, max_features=sqrt, n_estimators=8, score=0.8539325842696629, total=   0.0s\n",
      "[CV] criterion=gini, max_features=sqrt, n_estimators=8 ...............\n",
      "[CV]  criterion=gini, max_features=sqrt, n_estimators=8, score=0.8181818181818182, total=   0.0s\n",
      "[CV] criterion=gini, max_features=sqrt, n_estimators=9 ...............\n",
      "[CV]  criterion=gini, max_features=sqrt, n_estimators=9, score=0.7444444444444445, total=   0.0s\n",
      "[CV] criterion=gini, max_features=sqrt, n_estimators=9 ...............\n",
      "[CV]  criterion=gini, max_features=sqrt, n_estimators=9, score=0.8333333333333334, total=   0.0s\n",
      "[CV] criterion=gini, max_features=sqrt, n_estimators=9 ...............\n",
      "[CV]  criterion=gini, max_features=sqrt, n_estimators=9, score=0.7528089887640449, total=   0.0s\n",
      "[CV] criterion=gini, max_features=sqrt, n_estimators=9 ...............\n",
      "[CV]  criterion=gini, max_features=sqrt, n_estimators=9, score=0.8202247191011236, total=   0.0s\n",
      "[CV] criterion=gini, max_features=sqrt, n_estimators=9 ...............\n",
      "[CV]  criterion=gini, max_features=sqrt, n_estimators=9, score=0.8314606741573034, total=   0.0s\n",
      "[CV] criterion=gini, max_features=sqrt, n_estimators=9 ...............\n",
      "[CV]  criterion=gini, max_features=sqrt, n_estimators=9, score=0.8202247191011236, total=   0.0s\n",
      "[CV] criterion=gini, max_features=sqrt, n_estimators=9 ...............\n",
      "[CV]  criterion=gini, max_features=sqrt, n_estimators=9, score=0.797752808988764, total=   0.0s\n",
      "[CV] criterion=gini, max_features=sqrt, n_estimators=9 ...............\n"
     ]
    },
    {
     "name": "stdout",
     "output_type": "stream",
     "text": [
      "[CV]  criterion=gini, max_features=sqrt, n_estimators=9, score=0.7640449438202247, total=   0.0s\n",
      "[CV] criterion=gini, max_features=sqrt, n_estimators=9 ...............\n",
      "[CV]  criterion=gini, max_features=sqrt, n_estimators=9, score=0.8202247191011236, total=   0.0s\n",
      "[CV] criterion=gini, max_features=sqrt, n_estimators=9 ...............\n",
      "[CV]  criterion=gini, max_features=sqrt, n_estimators=9, score=0.8295454545454546, total=   0.0s\n",
      "[CV] criterion=gini, max_features=sqrt, n_estimators=10 ..............\n",
      "[CV]  criterion=gini, max_features=sqrt, n_estimators=10, score=0.7555555555555555, total=   0.0s\n",
      "[CV] criterion=gini, max_features=sqrt, n_estimators=10 ..............\n",
      "[CV]  criterion=gini, max_features=sqrt, n_estimators=10, score=0.8222222222222222, total=   0.0s\n",
      "[CV] criterion=gini, max_features=sqrt, n_estimators=10 ..............\n",
      "[CV]  criterion=gini, max_features=sqrt, n_estimators=10, score=0.7528089887640449, total=   0.0s\n",
      "[CV] criterion=gini, max_features=sqrt, n_estimators=10 ..............\n",
      "[CV]  criterion=gini, max_features=sqrt, n_estimators=10, score=0.8202247191011236, total=   0.0s\n",
      "[CV] criterion=gini, max_features=sqrt, n_estimators=10 ..............\n",
      "[CV]  criterion=gini, max_features=sqrt, n_estimators=10, score=0.8426966292134831, total=   0.0s\n",
      "[CV] criterion=gini, max_features=sqrt, n_estimators=10 ..............\n",
      "[CV]  criterion=gini, max_features=sqrt, n_estimators=10, score=0.8202247191011236, total=   0.0s\n",
      "[CV] criterion=gini, max_features=sqrt, n_estimators=10 ..............\n",
      "[CV]  criterion=gini, max_features=sqrt, n_estimators=10, score=0.8089887640449438, total=   0.0s\n",
      "[CV] criterion=gini, max_features=sqrt, n_estimators=10 ..............\n",
      "[CV]  criterion=gini, max_features=sqrt, n_estimators=10, score=0.7640449438202247, total=   0.0s\n",
      "[CV] criterion=gini, max_features=sqrt, n_estimators=10 ..............\n",
      "[CV]  criterion=gini, max_features=sqrt, n_estimators=10, score=0.8202247191011236, total=   0.0s\n",
      "[CV] criterion=gini, max_features=sqrt, n_estimators=10 ..............\n",
      "[CV]  criterion=gini, max_features=sqrt, n_estimators=10, score=0.8295454545454546, total=   0.0s\n",
      "[CV] criterion=gini, max_features=log2, n_estimators=3 ...............\n",
      "[CV]  criterion=gini, max_features=log2, n_estimators=3, score=0.7333333333333333, total=   0.0s\n",
      "[CV] criterion=gini, max_features=log2, n_estimators=3 ...............\n",
      "[CV]  criterion=gini, max_features=log2, n_estimators=3, score=0.8222222222222222, total=   0.0s\n",
      "[CV] criterion=gini, max_features=log2, n_estimators=3 ...............\n",
      "[CV]  criterion=gini, max_features=log2, n_estimators=3, score=0.7415730337078652, total=   0.0s\n",
      "[CV] criterion=gini, max_features=log2, n_estimators=3 ...............\n",
      "[CV]  criterion=gini, max_features=log2, n_estimators=3, score=0.8202247191011236, total=   0.0s\n",
      "[CV] criterion=gini, max_features=log2, n_estimators=3 ...............\n",
      "[CV]  criterion=gini, max_features=log2, n_estimators=3, score=0.8089887640449438, total=   0.0s\n",
      "[CV] criterion=gini, max_features=log2, n_estimators=3 ...............\n",
      "[CV]  criterion=gini, max_features=log2, n_estimators=3, score=0.7640449438202247, total=   0.0s\n",
      "[CV] criterion=gini, max_features=log2, n_estimators=3 ...............\n",
      "[CV]  criterion=gini, max_features=log2, n_estimators=3, score=0.797752808988764, total=   0.0s\n",
      "[CV] criterion=gini, max_features=log2, n_estimators=3 ...............\n",
      "[CV]  criterion=gini, max_features=log2, n_estimators=3, score=0.7078651685393258, total=   0.0s\n",
      "[CV] criterion=gini, max_features=log2, n_estimators=3 ...............\n",
      "[CV]  criterion=gini, max_features=log2, n_estimators=3, score=0.8089887640449438, total=   0.0s\n",
      "[CV] criterion=gini, max_features=log2, n_estimators=3 ...............\n",
      "[CV]  criterion=gini, max_features=log2, n_estimators=3, score=0.8181818181818182, total=   0.0s\n",
      "[CV] criterion=gini, max_features=log2, n_estimators=4 ...............\n",
      "[CV]  criterion=gini, max_features=log2, n_estimators=4, score=0.7333333333333333, total=   0.0s\n",
      "[CV] criterion=gini, max_features=log2, n_estimators=4 ...............\n",
      "[CV]  criterion=gini, max_features=log2, n_estimators=4, score=0.8333333333333334, total=   0.0s\n",
      "[CV] criterion=gini, max_features=log2, n_estimators=4 ...............\n",
      "[CV]  criterion=gini, max_features=log2, n_estimators=4, score=0.7640449438202247, total=   0.0s\n",
      "[CV] criterion=gini, max_features=log2, n_estimators=4 ...............\n",
      "[CV]  criterion=gini, max_features=log2, n_estimators=4, score=0.8426966292134831, total=   0.0s\n",
      "[CV] criterion=gini, max_features=log2, n_estimators=4 ...............\n",
      "[CV]  criterion=gini, max_features=log2, n_estimators=4, score=0.8314606741573034, total=   0.0s\n",
      "[CV] criterion=gini, max_features=log2, n_estimators=4 ...............\n",
      "[CV]  criterion=gini, max_features=log2, n_estimators=4, score=0.8539325842696629, total=   0.0s\n",
      "[CV] criterion=gini, max_features=log2, n_estimators=4 ...............\n",
      "[CV]  criterion=gini, max_features=log2, n_estimators=4, score=0.8089887640449438, total=   0.0s\n",
      "[CV] criterion=gini, max_features=log2, n_estimators=4 ...............\n",
      "[CV]  criterion=gini, max_features=log2, n_estimators=4, score=0.7528089887640449, total=   0.0s\n",
      "[CV] criterion=gini, max_features=log2, n_estimators=4 ...............\n",
      "[CV]  criterion=gini, max_features=log2, n_estimators=4, score=0.8314606741573034, total=   0.0s\n",
      "[CV] criterion=gini, max_features=log2, n_estimators=4 ...............\n",
      "[CV]  criterion=gini, max_features=log2, n_estimators=4, score=0.8181818181818182, total=   0.0s\n",
      "[CV] criterion=gini, max_features=log2, n_estimators=5 ...............\n",
      "[CV]  criterion=gini, max_features=log2, n_estimators=5, score=0.7444444444444445, total=   0.0s\n",
      "[CV] criterion=gini, max_features=log2, n_estimators=5 ...............\n",
      "[CV]  criterion=gini, max_features=log2, n_estimators=5, score=0.8222222222222222, total=   0.0s\n",
      "[CV] criterion=gini, max_features=log2, n_estimators=5 ...............\n",
      "[CV]  criterion=gini, max_features=log2, n_estimators=5, score=0.7528089887640449, total=   0.0s\n",
      "[CV] criterion=gini, max_features=log2, n_estimators=5 ...............\n",
      "[CV]  criterion=gini, max_features=log2, n_estimators=5, score=0.8426966292134831, total=   0.0s\n",
      "[CV] criterion=gini, max_features=log2, n_estimators=5 ...............\n",
      "[CV]  criterion=gini, max_features=log2, n_estimators=5, score=0.8539325842696629, total=   0.0s\n",
      "[CV] criterion=gini, max_features=log2, n_estimators=5 ...............\n",
      "[CV]  criterion=gini, max_features=log2, n_estimators=5, score=0.8314606741573034, total=   0.0s\n",
      "[CV] criterion=gini, max_features=log2, n_estimators=5 ...............\n",
      "[CV]  criterion=gini, max_features=log2, n_estimators=5, score=0.797752808988764, total=   0.0s\n",
      "[CV] criterion=gini, max_features=log2, n_estimators=5 ...............\n",
      "[CV]  criterion=gini, max_features=log2, n_estimators=5, score=0.7415730337078652, total=   0.0s\n",
      "[CV] criterion=gini, max_features=log2, n_estimators=5 ...............\n",
      "[CV]  criterion=gini, max_features=log2, n_estimators=5, score=0.8426966292134831, total=   0.0s\n",
      "[CV] criterion=gini, max_features=log2, n_estimators=5 ...............\n",
      "[CV]  criterion=gini, max_features=log2, n_estimators=5, score=0.8295454545454546, total=   0.0s\n",
      "[CV] criterion=gini, max_features=log2, n_estimators=6 ...............\n",
      "[CV]  criterion=gini, max_features=log2, n_estimators=6, score=0.7666666666666667, total=   0.0s\n",
      "[CV] criterion=gini, max_features=log2, n_estimators=6 ...............\n",
      "[CV]  criterion=gini, max_features=log2, n_estimators=6, score=0.8111111111111111, total=   0.0s\n",
      "[CV] criterion=gini, max_features=log2, n_estimators=6 ...............\n",
      "[CV]  criterion=gini, max_features=log2, n_estimators=6, score=0.7415730337078652, total=   0.0s\n",
      "[CV] criterion=gini, max_features=log2, n_estimators=6 ...............\n",
      "[CV]  criterion=gini, max_features=log2, n_estimators=6, score=0.8426966292134831, total=   0.0s\n",
      "[CV] criterion=gini, max_features=log2, n_estimators=6 ...............\n",
      "[CV]  criterion=gini, max_features=log2, n_estimators=6, score=0.8764044943820225, total=   0.0s\n",
      "[CV] criterion=gini, max_features=log2, n_estimators=6 ...............\n",
      "[CV]  criterion=gini, max_features=log2, n_estimators=6, score=0.8426966292134831, total=   0.0s\n",
      "[CV] criterion=gini, max_features=log2, n_estimators=6 ...............\n",
      "[CV]  criterion=gini, max_features=log2, n_estimators=6, score=0.7865168539325843, total=   0.0s\n",
      "[CV] criterion=gini, max_features=log2, n_estimators=6 ...............\n",
      "[CV]  criterion=gini, max_features=log2, n_estimators=6, score=0.7528089887640449, total=   0.0s\n",
      "[CV] criterion=gini, max_features=log2, n_estimators=6 ...............\n",
      "[CV]  criterion=gini, max_features=log2, n_estimators=6, score=0.8651685393258427, total=   0.0s\n",
      "[CV] criterion=gini, max_features=log2, n_estimators=6 ...............\n"
     ]
    },
    {
     "name": "stdout",
     "output_type": "stream",
     "text": [
      "[CV]  criterion=gini, max_features=log2, n_estimators=6, score=0.8295454545454546, total=   0.0s\n",
      "[CV] criterion=gini, max_features=log2, n_estimators=7 ...............\n",
      "[CV]  criterion=gini, max_features=log2, n_estimators=7, score=0.7444444444444445, total=   0.0s\n",
      "[CV] criterion=gini, max_features=log2, n_estimators=7 ...............\n",
      "[CV]  criterion=gini, max_features=log2, n_estimators=7, score=0.8444444444444444, total=   0.0s\n",
      "[CV] criterion=gini, max_features=log2, n_estimators=7 ...............\n",
      "[CV]  criterion=gini, max_features=log2, n_estimators=7, score=0.7528089887640449, total=   0.0s\n",
      "[CV] criterion=gini, max_features=log2, n_estimators=7 ...............\n",
      "[CV]  criterion=gini, max_features=log2, n_estimators=7, score=0.8426966292134831, total=   0.0s\n",
      "[CV] criterion=gini, max_features=log2, n_estimators=7 ...............\n",
      "[CV]  criterion=gini, max_features=log2, n_estimators=7, score=0.8089887640449438, total=   0.0s\n",
      "[CV] criterion=gini, max_features=log2, n_estimators=7 ...............\n",
      "[CV]  criterion=gini, max_features=log2, n_estimators=7, score=0.8426966292134831, total=   0.0s\n",
      "[CV] criterion=gini, max_features=log2, n_estimators=7 ...............\n",
      "[CV]  criterion=gini, max_features=log2, n_estimators=7, score=0.8202247191011236, total=   0.0s\n",
      "[CV] criterion=gini, max_features=log2, n_estimators=7 ...............\n",
      "[CV]  criterion=gini, max_features=log2, n_estimators=7, score=0.7303370786516854, total=   0.0s\n",
      "[CV] criterion=gini, max_features=log2, n_estimators=7 ...............\n",
      "[CV]  criterion=gini, max_features=log2, n_estimators=7, score=0.8314606741573034, total=   0.0s\n",
      "[CV] criterion=gini, max_features=log2, n_estimators=7 ...............\n",
      "[CV]  criterion=gini, max_features=log2, n_estimators=7, score=0.8409090909090909, total=   0.0s\n",
      "[CV] criterion=gini, max_features=log2, n_estimators=8 ...............\n",
      "[CV]  criterion=gini, max_features=log2, n_estimators=8, score=0.7777777777777778, total=   0.0s\n",
      "[CV] criterion=gini, max_features=log2, n_estimators=8 ...............\n",
      "[CV]  criterion=gini, max_features=log2, n_estimators=8, score=0.8222222222222222, total=   0.0s\n",
      "[CV] criterion=gini, max_features=log2, n_estimators=8 ...............\n",
      "[CV]  criterion=gini, max_features=log2, n_estimators=8, score=0.7865168539325843, total=   0.0s\n",
      "[CV] criterion=gini, max_features=log2, n_estimators=8 ...............\n",
      "[CV]  criterion=gini, max_features=log2, n_estimators=8, score=0.8314606741573034, total=   0.0s\n",
      "[CV] criterion=gini, max_features=log2, n_estimators=8 ...............\n",
      "[CV]  criterion=gini, max_features=log2, n_estimators=8, score=0.8539325842696629, total=   0.0s\n",
      "[CV] criterion=gini, max_features=log2, n_estimators=8 ...............\n",
      "[CV]  criterion=gini, max_features=log2, n_estimators=8, score=0.8539325842696629, total=   0.0s\n",
      "[CV] criterion=gini, max_features=log2, n_estimators=8 ...............\n",
      "[CV]  criterion=gini, max_features=log2, n_estimators=8, score=0.8089887640449438, total=   0.0s\n",
      "[CV] criterion=gini, max_features=log2, n_estimators=8 ...............\n",
      "[CV]  criterion=gini, max_features=log2, n_estimators=8, score=0.7528089887640449, total=   0.0s\n",
      "[CV] criterion=gini, max_features=log2, n_estimators=8 ...............\n",
      "[CV]  criterion=gini, max_features=log2, n_estimators=8, score=0.8314606741573034, total=   0.0s\n",
      "[CV] criterion=gini, max_features=log2, n_estimators=8 ...............\n",
      "[CV]  criterion=gini, max_features=log2, n_estimators=8, score=0.8522727272727273, total=   0.0s\n",
      "[CV] criterion=gini, max_features=log2, n_estimators=9 ...............\n",
      "[CV]  criterion=gini, max_features=log2, n_estimators=9, score=0.7444444444444445, total=   0.0s\n",
      "[CV] criterion=gini, max_features=log2, n_estimators=9 ...............\n",
      "[CV]  criterion=gini, max_features=log2, n_estimators=9, score=0.8555555555555555, total=   0.0s\n",
      "[CV] criterion=gini, max_features=log2, n_estimators=9 ...............\n",
      "[CV]  criterion=gini, max_features=log2, n_estimators=9, score=0.7528089887640449, total=   0.0s\n",
      "[CV] criterion=gini, max_features=log2, n_estimators=9 ...............\n",
      "[CV]  criterion=gini, max_features=log2, n_estimators=9, score=0.8089887640449438, total=   0.0s\n",
      "[CV] criterion=gini, max_features=log2, n_estimators=9 ...............\n",
      "[CV]  criterion=gini, max_features=log2, n_estimators=9, score=0.8314606741573034, total=   0.0s\n",
      "[CV] criterion=gini, max_features=log2, n_estimators=9 ...............\n",
      "[CV]  criterion=gini, max_features=log2, n_estimators=9, score=0.8651685393258427, total=   0.0s\n",
      "[CV] criterion=gini, max_features=log2, n_estimators=9 ...............\n",
      "[CV]  criterion=gini, max_features=log2, n_estimators=9, score=0.797752808988764, total=   0.0s\n",
      "[CV] criterion=gini, max_features=log2, n_estimators=9 ...............\n",
      "[CV]  criterion=gini, max_features=log2, n_estimators=9, score=0.7528089887640449, total=   0.0s\n",
      "[CV] criterion=gini, max_features=log2, n_estimators=9 ...............\n",
      "[CV]  criterion=gini, max_features=log2, n_estimators=9, score=0.8314606741573034, total=   0.0s\n",
      "[CV] criterion=gini, max_features=log2, n_estimators=9 ...............\n",
      "[CV]  criterion=gini, max_features=log2, n_estimators=9, score=0.8636363636363636, total=   0.0s\n",
      "[CV] criterion=gini, max_features=log2, n_estimators=10 ..............\n",
      "[CV]  criterion=gini, max_features=log2, n_estimators=10, score=0.7555555555555555, total=   0.0s\n",
      "[CV] criterion=gini, max_features=log2, n_estimators=10 ..............\n",
      "[CV]  criterion=gini, max_features=log2, n_estimators=10, score=0.7666666666666667, total=   0.0s\n",
      "[CV] criterion=gini, max_features=log2, n_estimators=10 ..............\n",
      "[CV]  criterion=gini, max_features=log2, n_estimators=10, score=0.7528089887640449, total=   0.0s\n",
      "[CV] criterion=gini, max_features=log2, n_estimators=10 ..............\n",
      "[CV]  criterion=gini, max_features=log2, n_estimators=10, score=0.8089887640449438, total=   0.0s\n",
      "[CV] criterion=gini, max_features=log2, n_estimators=10 ..............\n",
      "[CV]  criterion=gini, max_features=log2, n_estimators=10, score=0.8764044943820225, total=   0.0s\n",
      "[CV] criterion=gini, max_features=log2, n_estimators=10 ..............\n",
      "[CV]  criterion=gini, max_features=log2, n_estimators=10, score=0.797752808988764, total=   0.0s\n",
      "[CV] criterion=gini, max_features=log2, n_estimators=10 ..............\n",
      "[CV]  criterion=gini, max_features=log2, n_estimators=10, score=0.8089887640449438, total=   0.0s\n",
      "[CV] criterion=gini, max_features=log2, n_estimators=10 ..............\n",
      "[CV]  criterion=gini, max_features=log2, n_estimators=10, score=0.7865168539325843, total=   0.0s\n",
      "[CV] criterion=gini, max_features=log2, n_estimators=10 ..............\n",
      "[CV]  criterion=gini, max_features=log2, n_estimators=10, score=0.8539325842696629, total=   0.0s\n",
      "[CV] criterion=gini, max_features=log2, n_estimators=10 ..............\n",
      "[CV]  criterion=gini, max_features=log2, n_estimators=10, score=0.8636363636363636, total=   0.0s\n",
      "[CV] criterion=entropy, max_features=sqrt, n_estimators=3 ............\n",
      "[CV]  criterion=entropy, max_features=sqrt, n_estimators=3, score=0.7777777777777778, total=   0.0s\n",
      "[CV] criterion=entropy, max_features=sqrt, n_estimators=3 ............\n",
      "[CV]  criterion=entropy, max_features=sqrt, n_estimators=3, score=0.8, total=   0.0s\n",
      "[CV] criterion=entropy, max_features=sqrt, n_estimators=3 ............\n",
      "[CV]  criterion=entropy, max_features=sqrt, n_estimators=3, score=0.7415730337078652, total=   0.0s\n",
      "[CV] criterion=entropy, max_features=sqrt, n_estimators=3 ............\n",
      "[CV]  criterion=entropy, max_features=sqrt, n_estimators=3, score=0.8314606741573034, total=   0.0s\n",
      "[CV] criterion=entropy, max_features=sqrt, n_estimators=3 ............\n",
      "[CV]  criterion=entropy, max_features=sqrt, n_estimators=3, score=0.8426966292134831, total=   0.0s\n",
      "[CV] criterion=entropy, max_features=sqrt, n_estimators=3 ............\n",
      "[CV]  criterion=entropy, max_features=sqrt, n_estimators=3, score=0.8539325842696629, total=   0.0s\n",
      "[CV] criterion=entropy, max_features=sqrt, n_estimators=3 ............\n",
      "[CV]  criterion=entropy, max_features=sqrt, n_estimators=3, score=0.8089887640449438, total=   0.0s\n",
      "[CV] criterion=entropy, max_features=sqrt, n_estimators=3 ............\n",
      "[CV]  criterion=entropy, max_features=sqrt, n_estimators=3, score=0.7528089887640449, total=   0.0s\n",
      "[CV] criterion=entropy, max_features=sqrt, n_estimators=3 ............\n",
      "[CV]  criterion=entropy, max_features=sqrt, n_estimators=3, score=0.8202247191011236, total=   0.0s\n",
      "[CV] criterion=entropy, max_features=sqrt, n_estimators=3 ............\n",
      "[CV]  criterion=entropy, max_features=sqrt, n_estimators=3, score=0.8295454545454546, total=   0.0s\n",
      "[CV] criterion=entropy, max_features=sqrt, n_estimators=4 ............\n",
      "[CV]  criterion=entropy, max_features=sqrt, n_estimators=4, score=0.7666666666666667, total=   0.0s\n",
      "[CV] criterion=entropy, max_features=sqrt, n_estimators=4 ............\n",
      "[CV]  criterion=entropy, max_features=sqrt, n_estimators=4, score=0.7777777777777778, total=   0.0s\n",
      "[CV] criterion=entropy, max_features=sqrt, n_estimators=4 ............\n",
      "[CV]  criterion=entropy, max_features=sqrt, n_estimators=4, score=0.7752808988764045, total=   0.0s\n",
      "[CV] criterion=entropy, max_features=sqrt, n_estimators=4 ............\n",
      "[CV]  criterion=entropy, max_features=sqrt, n_estimators=4, score=0.8314606741573034, total=   0.0s\n",
      "[CV] criterion=entropy, max_features=sqrt, n_estimators=4 ............\n",
      "[CV]  criterion=entropy, max_features=sqrt, n_estimators=4, score=0.8314606741573034, total=   0.0s\n",
      "[CV] criterion=entropy, max_features=sqrt, n_estimators=4 ............\n",
      "[CV]  criterion=entropy, max_features=sqrt, n_estimators=4, score=0.8314606741573034, total=   0.0s\n",
      "[CV] criterion=entropy, max_features=sqrt, n_estimators=4 ............\n"
     ]
    },
    {
     "name": "stdout",
     "output_type": "stream",
     "text": [
      "[CV]  criterion=entropy, max_features=sqrt, n_estimators=4, score=0.8089887640449438, total=   0.0s\n",
      "[CV] criterion=entropy, max_features=sqrt, n_estimators=4 ............\n",
      "[CV]  criterion=entropy, max_features=sqrt, n_estimators=4, score=0.8426966292134831, total=   0.0s\n",
      "[CV] criterion=entropy, max_features=sqrt, n_estimators=4 ............\n",
      "[CV]  criterion=entropy, max_features=sqrt, n_estimators=4, score=0.8314606741573034, total=   0.0s\n",
      "[CV] criterion=entropy, max_features=sqrt, n_estimators=4 ............\n",
      "[CV]  criterion=entropy, max_features=sqrt, n_estimators=4, score=0.8181818181818182, total=   0.0s\n",
      "[CV] criterion=entropy, max_features=sqrt, n_estimators=5 ............\n",
      "[CV]  criterion=entropy, max_features=sqrt, n_estimators=5, score=0.7444444444444445, total=   0.0s\n",
      "[CV] criterion=entropy, max_features=sqrt, n_estimators=5 ............\n",
      "[CV]  criterion=entropy, max_features=sqrt, n_estimators=5, score=0.8111111111111111, total=   0.0s\n",
      "[CV] criterion=entropy, max_features=sqrt, n_estimators=5 ............\n",
      "[CV]  criterion=entropy, max_features=sqrt, n_estimators=5, score=0.7752808988764045, total=   0.0s\n",
      "[CV] criterion=entropy, max_features=sqrt, n_estimators=5 ............\n",
      "[CV]  criterion=entropy, max_features=sqrt, n_estimators=5, score=0.8426966292134831, total=   0.0s\n",
      "[CV] criterion=entropy, max_features=sqrt, n_estimators=5 ............\n",
      "[CV]  criterion=entropy, max_features=sqrt, n_estimators=5, score=0.8314606741573034, total=   0.0s\n",
      "[CV] criterion=entropy, max_features=sqrt, n_estimators=5 ............\n",
      "[CV]  criterion=entropy, max_features=sqrt, n_estimators=5, score=0.8089887640449438, total=   0.0s\n",
      "[CV] criterion=entropy, max_features=sqrt, n_estimators=5 ............\n",
      "[CV]  criterion=entropy, max_features=sqrt, n_estimators=5, score=0.8202247191011236, total=   0.0s\n",
      "[CV] criterion=entropy, max_features=sqrt, n_estimators=5 ............\n",
      "[CV]  criterion=entropy, max_features=sqrt, n_estimators=5, score=0.7303370786516854, total=   0.0s\n",
      "[CV] criterion=entropy, max_features=sqrt, n_estimators=5 ............\n",
      "[CV]  criterion=entropy, max_features=sqrt, n_estimators=5, score=0.8426966292134831, total=   0.0s\n",
      "[CV] criterion=entropy, max_features=sqrt, n_estimators=5 ............\n",
      "[CV]  criterion=entropy, max_features=sqrt, n_estimators=5, score=0.8181818181818182, total=   0.0s\n",
      "[CV] criterion=entropy, max_features=sqrt, n_estimators=6 ............\n",
      "[CV]  criterion=entropy, max_features=sqrt, n_estimators=6, score=0.7555555555555555, total=   0.0s\n",
      "[CV] criterion=entropy, max_features=sqrt, n_estimators=6 ............\n",
      "[CV]  criterion=entropy, max_features=sqrt, n_estimators=6, score=0.8222222222222222, total=   0.0s\n",
      "[CV] criterion=entropy, max_features=sqrt, n_estimators=6 ............\n",
      "[CV]  criterion=entropy, max_features=sqrt, n_estimators=6, score=0.7303370786516854, total=   0.0s\n",
      "[CV] criterion=entropy, max_features=sqrt, n_estimators=6 ............\n",
      "[CV]  criterion=entropy, max_features=sqrt, n_estimators=6, score=0.8202247191011236, total=   0.0s\n",
      "[CV] criterion=entropy, max_features=sqrt, n_estimators=6 ............\n",
      "[CV]  criterion=entropy, max_features=sqrt, n_estimators=6, score=0.8426966292134831, total=   0.0s\n",
      "[CV] criterion=entropy, max_features=sqrt, n_estimators=6 ............\n",
      "[CV]  criterion=entropy, max_features=sqrt, n_estimators=6, score=0.8314606741573034, total=   0.0s\n",
      "[CV] criterion=entropy, max_features=sqrt, n_estimators=6 ............\n",
      "[CV]  criterion=entropy, max_features=sqrt, n_estimators=6, score=0.8089887640449438, total=   0.0s\n",
      "[CV] criterion=entropy, max_features=sqrt, n_estimators=6 ............\n",
      "[CV]  criterion=entropy, max_features=sqrt, n_estimators=6, score=0.7640449438202247, total=   0.0s\n",
      "[CV] criterion=entropy, max_features=sqrt, n_estimators=6 ............\n",
      "[CV]  criterion=entropy, max_features=sqrt, n_estimators=6, score=0.8426966292134831, total=   0.0s\n",
      "[CV] criterion=entropy, max_features=sqrt, n_estimators=6 ............\n",
      "[CV]  criterion=entropy, max_features=sqrt, n_estimators=6, score=0.8181818181818182, total=   0.0s\n",
      "[CV] criterion=entropy, max_features=sqrt, n_estimators=7 ............\n",
      "[CV]  criterion=entropy, max_features=sqrt, n_estimators=7, score=0.7333333333333333, total=   0.0s\n",
      "[CV] criterion=entropy, max_features=sqrt, n_estimators=7 ............\n",
      "[CV]  criterion=entropy, max_features=sqrt, n_estimators=7, score=0.8333333333333334, total=   0.0s\n",
      "[CV] criterion=entropy, max_features=sqrt, n_estimators=7 ............\n",
      "[CV]  criterion=entropy, max_features=sqrt, n_estimators=7, score=0.7640449438202247, total=   0.0s\n",
      "[CV] criterion=entropy, max_features=sqrt, n_estimators=7 ............\n",
      "[CV]  criterion=entropy, max_features=sqrt, n_estimators=7, score=0.8202247191011236, total=   0.0s\n",
      "[CV] criterion=entropy, max_features=sqrt, n_estimators=7 ............\n",
      "[CV]  criterion=entropy, max_features=sqrt, n_estimators=7, score=0.8202247191011236, total=   0.0s\n",
      "[CV] criterion=entropy, max_features=sqrt, n_estimators=7 ............\n",
      "[CV]  criterion=entropy, max_features=sqrt, n_estimators=7, score=0.8202247191011236, total=   0.0s\n",
      "[CV] criterion=entropy, max_features=sqrt, n_estimators=7 ............\n",
      "[CV]  criterion=entropy, max_features=sqrt, n_estimators=7, score=0.7865168539325843, total=   0.0s\n",
      "[CV] criterion=entropy, max_features=sqrt, n_estimators=7 ............\n",
      "[CV]  criterion=entropy, max_features=sqrt, n_estimators=7, score=0.7752808988764045, total=   0.0s\n",
      "[CV] criterion=entropy, max_features=sqrt, n_estimators=7 ............\n",
      "[CV]  criterion=entropy, max_features=sqrt, n_estimators=7, score=0.8314606741573034, total=   0.0s\n",
      "[CV] criterion=entropy, max_features=sqrt, n_estimators=7 ............\n",
      "[CV]  criterion=entropy, max_features=sqrt, n_estimators=7, score=0.8181818181818182, total=   0.0s\n",
      "[CV] criterion=entropy, max_features=sqrt, n_estimators=8 ............\n",
      "[CV]  criterion=entropy, max_features=sqrt, n_estimators=8, score=0.7777777777777778, total=   0.0s\n",
      "[CV] criterion=entropy, max_features=sqrt, n_estimators=8 ............\n",
      "[CV]  criterion=entropy, max_features=sqrt, n_estimators=8, score=0.8222222222222222, total=   0.0s\n",
      "[CV] criterion=entropy, max_features=sqrt, n_estimators=8 ............\n",
      "[CV]  criterion=entropy, max_features=sqrt, n_estimators=8, score=0.7528089887640449, total=   0.0s\n",
      "[CV] criterion=entropy, max_features=sqrt, n_estimators=8 ............\n",
      "[CV]  criterion=entropy, max_features=sqrt, n_estimators=8, score=0.8202247191011236, total=   0.0s\n",
      "[CV] criterion=entropy, max_features=sqrt, n_estimators=8 ............\n",
      "[CV]  criterion=entropy, max_features=sqrt, n_estimators=8, score=0.8426966292134831, total=   0.0s\n",
      "[CV] criterion=entropy, max_features=sqrt, n_estimators=8 ............\n",
      "[CV]  criterion=entropy, max_features=sqrt, n_estimators=8, score=0.8314606741573034, total=   0.0s\n",
      "[CV] criterion=entropy, max_features=sqrt, n_estimators=8 ............\n",
      "[CV]  criterion=entropy, max_features=sqrt, n_estimators=8, score=0.8089887640449438, total=   0.0s\n",
      "[CV] criterion=entropy, max_features=sqrt, n_estimators=8 ............\n",
      "[CV]  criterion=entropy, max_features=sqrt, n_estimators=8, score=0.7303370786516854, total=   0.0s\n",
      "[CV] criterion=entropy, max_features=sqrt, n_estimators=8 ............\n",
      "[CV]  criterion=entropy, max_features=sqrt, n_estimators=8, score=0.797752808988764, total=   0.0s\n",
      "[CV] criterion=entropy, max_features=sqrt, n_estimators=8 ............\n",
      "[CV]  criterion=entropy, max_features=sqrt, n_estimators=8, score=0.8409090909090909, total=   0.0s\n",
      "[CV] criterion=entropy, max_features=sqrt, n_estimators=9 ............\n",
      "[CV]  criterion=entropy, max_features=sqrt, n_estimators=9, score=0.7555555555555555, total=   0.0s\n",
      "[CV] criterion=entropy, max_features=sqrt, n_estimators=9 ............\n",
      "[CV]  criterion=entropy, max_features=sqrt, n_estimators=9, score=0.8444444444444444, total=   0.0s\n",
      "[CV] criterion=entropy, max_features=sqrt, n_estimators=9 ............\n",
      "[CV]  criterion=entropy, max_features=sqrt, n_estimators=9, score=0.7528089887640449, total=   0.0s\n",
      "[CV] criterion=entropy, max_features=sqrt, n_estimators=9 ............\n",
      "[CV]  criterion=entropy, max_features=sqrt, n_estimators=9, score=0.8202247191011236, total=   0.0s\n",
      "[CV] criterion=entropy, max_features=sqrt, n_estimators=9 ............\n",
      "[CV]  criterion=entropy, max_features=sqrt, n_estimators=9, score=0.8426966292134831, total=   0.0s\n",
      "[CV] criterion=entropy, max_features=sqrt, n_estimators=9 ............\n"
     ]
    },
    {
     "name": "stdout",
     "output_type": "stream",
     "text": [
      "[CV]  criterion=entropy, max_features=sqrt, n_estimators=9, score=0.8539325842696629, total=   0.0s\n",
      "[CV] criterion=entropy, max_features=sqrt, n_estimators=9 ............\n",
      "[CV]  criterion=entropy, max_features=sqrt, n_estimators=9, score=0.8089887640449438, total=   0.0s\n",
      "[CV] criterion=entropy, max_features=sqrt, n_estimators=9 ............\n",
      "[CV]  criterion=entropy, max_features=sqrt, n_estimators=9, score=0.7528089887640449, total=   0.0s\n",
      "[CV] criterion=entropy, max_features=sqrt, n_estimators=9 ............\n",
      "[CV]  criterion=entropy, max_features=sqrt, n_estimators=9, score=0.797752808988764, total=   0.0s\n",
      "[CV] criterion=entropy, max_features=sqrt, n_estimators=9 ............\n",
      "[CV]  criterion=entropy, max_features=sqrt, n_estimators=9, score=0.8522727272727273, total=   0.0s\n",
      "[CV] criterion=entropy, max_features=sqrt, n_estimators=10 ...........\n",
      "[CV]  criterion=entropy, max_features=sqrt, n_estimators=10, score=0.7777777777777778, total=   0.0s\n",
      "[CV] criterion=entropy, max_features=sqrt, n_estimators=10 ...........\n",
      "[CV]  criterion=entropy, max_features=sqrt, n_estimators=10, score=0.8222222222222222, total=   0.0s\n",
      "[CV] criterion=entropy, max_features=sqrt, n_estimators=10 ...........\n",
      "[CV]  criterion=entropy, max_features=sqrt, n_estimators=10, score=0.7640449438202247, total=   0.0s\n",
      "[CV] criterion=entropy, max_features=sqrt, n_estimators=10 ...........\n",
      "[CV]  criterion=entropy, max_features=sqrt, n_estimators=10, score=0.8426966292134831, total=   0.0s\n",
      "[CV] criterion=entropy, max_features=sqrt, n_estimators=10 ...........\n",
      "[CV]  criterion=entropy, max_features=sqrt, n_estimators=10, score=0.8764044943820225, total=   0.0s\n",
      "[CV] criterion=entropy, max_features=sqrt, n_estimators=10 ...........\n",
      "[CV]  criterion=entropy, max_features=sqrt, n_estimators=10, score=0.8651685393258427, total=   0.0s\n",
      "[CV] criterion=entropy, max_features=sqrt, n_estimators=10 ...........\n",
      "[CV]  criterion=entropy, max_features=sqrt, n_estimators=10, score=0.8202247191011236, total=   0.0s\n",
      "[CV] criterion=entropy, max_features=sqrt, n_estimators=10 ...........\n",
      "[CV]  criterion=entropy, max_features=sqrt, n_estimators=10, score=0.7865168539325843, total=   0.0s\n",
      "[CV] criterion=entropy, max_features=sqrt, n_estimators=10 ...........\n",
      "[CV]  criterion=entropy, max_features=sqrt, n_estimators=10, score=0.8314606741573034, total=   0.0s\n",
      "[CV] criterion=entropy, max_features=sqrt, n_estimators=10 ...........\n",
      "[CV]  criterion=entropy, max_features=sqrt, n_estimators=10, score=0.8522727272727273, total=   0.0s\n",
      "[CV] criterion=entropy, max_features=log2, n_estimators=3 ............\n",
      "[CV]  criterion=entropy, max_features=log2, n_estimators=3, score=0.7333333333333333, total=   0.0s\n",
      "[CV] criterion=entropy, max_features=log2, n_estimators=3 ............\n",
      "[CV]  criterion=entropy, max_features=log2, n_estimators=3, score=0.8111111111111111, total=   0.0s\n",
      "[CV] criterion=entropy, max_features=log2, n_estimators=3 ............\n",
      "[CV]  criterion=entropy, max_features=log2, n_estimators=3, score=0.7640449438202247, total=   0.0s\n",
      "[CV] criterion=entropy, max_features=log2, n_estimators=3 ............\n",
      "[CV]  criterion=entropy, max_features=log2, n_estimators=3, score=0.8202247191011236, total=   0.0s\n",
      "[CV] criterion=entropy, max_features=log2, n_estimators=3 ............\n",
      "[CV]  criterion=entropy, max_features=log2, n_estimators=3, score=0.8314606741573034, total=   0.0s\n",
      "[CV] criterion=entropy, max_features=log2, n_estimators=3 ............\n",
      "[CV]  criterion=entropy, max_features=log2, n_estimators=3, score=0.8314606741573034, total=   0.0s\n",
      "[CV] criterion=entropy, max_features=log2, n_estimators=3 ............\n",
      "[CV]  criterion=entropy, max_features=log2, n_estimators=3, score=0.8089887640449438, total=   0.0s\n",
      "[CV] criterion=entropy, max_features=log2, n_estimators=3 ............\n",
      "[CV]  criterion=entropy, max_features=log2, n_estimators=3, score=0.7191011235955056, total=   0.0s\n",
      "[CV] criterion=entropy, max_features=log2, n_estimators=3 ............\n",
      "[CV]  criterion=entropy, max_features=log2, n_estimators=3, score=0.8089887640449438, total=   0.0s\n",
      "[CV] criterion=entropy, max_features=log2, n_estimators=3 ............\n",
      "[CV]  criterion=entropy, max_features=log2, n_estimators=3, score=0.8409090909090909, total=   0.0s\n",
      "[CV] criterion=entropy, max_features=log2, n_estimators=4 ............\n",
      "[CV]  criterion=entropy, max_features=log2, n_estimators=4, score=0.7333333333333333, total=   0.0s\n",
      "[CV] criterion=entropy, max_features=log2, n_estimators=4 ............\n",
      "[CV]  criterion=entropy, max_features=log2, n_estimators=4, score=0.8222222222222222, total=   0.0s\n",
      "[CV] criterion=entropy, max_features=log2, n_estimators=4 ............\n",
      "[CV]  criterion=entropy, max_features=log2, n_estimators=4, score=0.7528089887640449, total=   0.0s\n",
      "[CV] criterion=entropy, max_features=log2, n_estimators=4 ............\n",
      "[CV]  criterion=entropy, max_features=log2, n_estimators=4, score=0.8314606741573034, total=   0.0s\n",
      "[CV] criterion=entropy, max_features=log2, n_estimators=4 ............\n",
      "[CV]  criterion=entropy, max_features=log2, n_estimators=4, score=0.898876404494382, total=   0.0s\n",
      "[CV] criterion=entropy, max_features=log2, n_estimators=4 ............\n",
      "[CV]  criterion=entropy, max_features=log2, n_estimators=4, score=0.8314606741573034, total=   0.0s\n",
      "[CV] criterion=entropy, max_features=log2, n_estimators=4 ............\n",
      "[CV]  criterion=entropy, max_features=log2, n_estimators=4, score=0.797752808988764, total=   0.0s\n",
      "[CV] criterion=entropy, max_features=log2, n_estimators=4 ............\n",
      "[CV]  criterion=entropy, max_features=log2, n_estimators=4, score=0.7528089887640449, total=   0.0s\n",
      "[CV] criterion=entropy, max_features=log2, n_estimators=4 ............\n",
      "[CV]  criterion=entropy, max_features=log2, n_estimators=4, score=0.8426966292134831, total=   0.0s\n",
      "[CV] criterion=entropy, max_features=log2, n_estimators=4 ............\n",
      "[CV]  criterion=entropy, max_features=log2, n_estimators=4, score=0.8522727272727273, total=   0.0s\n",
      "[CV] criterion=entropy, max_features=log2, n_estimators=5 ............\n",
      "[CV]  criterion=entropy, max_features=log2, n_estimators=5, score=0.7222222222222222, total=   0.0s\n",
      "[CV] criterion=entropy, max_features=log2, n_estimators=5 ............\n",
      "[CV]  criterion=entropy, max_features=log2, n_estimators=5, score=0.8222222222222222, total=   0.0s\n",
      "[CV] criterion=entropy, max_features=log2, n_estimators=5 ............\n",
      "[CV]  criterion=entropy, max_features=log2, n_estimators=5, score=0.7640449438202247, total=   0.0s\n",
      "[CV] criterion=entropy, max_features=log2, n_estimators=5 ............\n",
      "[CV]  criterion=entropy, max_features=log2, n_estimators=5, score=0.8314606741573034, total=   0.0s\n",
      "[CV] criterion=entropy, max_features=log2, n_estimators=5 ............\n",
      "[CV]  criterion=entropy, max_features=log2, n_estimators=5, score=0.8314606741573034, total=   0.0s\n",
      "[CV] criterion=entropy, max_features=log2, n_estimators=5 ............\n",
      "[CV]  criterion=entropy, max_features=log2, n_estimators=5, score=0.8426966292134831, total=   0.0s\n",
      "[CV] criterion=entropy, max_features=log2, n_estimators=5 ............\n",
      "[CV]  criterion=entropy, max_features=log2, n_estimators=5, score=0.8089887640449438, total=   0.0s\n",
      "[CV] criterion=entropy, max_features=log2, n_estimators=5 ............\n",
      "[CV]  criterion=entropy, max_features=log2, n_estimators=5, score=0.7415730337078652, total=   0.0s\n",
      "[CV] criterion=entropy, max_features=log2, n_estimators=5 ............\n",
      "[CV]  criterion=entropy, max_features=log2, n_estimators=5, score=0.8314606741573034, total=   0.0s\n",
      "[CV] criterion=entropy, max_features=log2, n_estimators=5 ............\n",
      "[CV]  criterion=entropy, max_features=log2, n_estimators=5, score=0.8636363636363636, total=   0.0s\n",
      "[CV] criterion=entropy, max_features=log2, n_estimators=6 ............\n",
      "[CV]  criterion=entropy, max_features=log2, n_estimators=6, score=0.7444444444444445, total=   0.0s\n",
      "[CV] criterion=entropy, max_features=log2, n_estimators=6 ............\n",
      "[CV]  criterion=entropy, max_features=log2, n_estimators=6, score=0.8333333333333334, total=   0.0s\n",
      "[CV] criterion=entropy, max_features=log2, n_estimators=6 ............\n",
      "[CV]  criterion=entropy, max_features=log2, n_estimators=6, score=0.7752808988764045, total=   0.0s\n",
      "[CV] criterion=entropy, max_features=log2, n_estimators=6 ............\n",
      "[CV]  criterion=entropy, max_features=log2, n_estimators=6, score=0.7865168539325843, total=   0.0s\n",
      "[CV] criterion=entropy, max_features=log2, n_estimators=6 ............\n",
      "[CV]  criterion=entropy, max_features=log2, n_estimators=6, score=0.8202247191011236, total=   0.0s\n",
      "[CV] criterion=entropy, max_features=log2, n_estimators=6 ............\n",
      "[CV]  criterion=entropy, max_features=log2, n_estimators=6, score=0.8089887640449438, total=   0.0s\n",
      "[CV] criterion=entropy, max_features=log2, n_estimators=6 ............\n",
      "[CV]  criterion=entropy, max_features=log2, n_estimators=6, score=0.8202247191011236, total=   0.0s\n",
      "[CV] criterion=entropy, max_features=log2, n_estimators=6 ............\n"
     ]
    },
    {
     "name": "stdout",
     "output_type": "stream",
     "text": [
      "[CV]  criterion=entropy, max_features=log2, n_estimators=6, score=0.797752808988764, total=   0.0s\n",
      "[CV] criterion=entropy, max_features=log2, n_estimators=6 ............\n",
      "[CV]  criterion=entropy, max_features=log2, n_estimators=6, score=0.8314606741573034, total=   0.0s\n",
      "[CV] criterion=entropy, max_features=log2, n_estimators=6 ............\n",
      "[CV]  criterion=entropy, max_features=log2, n_estimators=6, score=0.8522727272727273, total=   0.0s\n",
      "[CV] criterion=entropy, max_features=log2, n_estimators=7 ............\n",
      "[CV]  criterion=entropy, max_features=log2, n_estimators=7, score=0.7666666666666667, total=   0.0s\n",
      "[CV] criterion=entropy, max_features=log2, n_estimators=7 ............\n",
      "[CV]  criterion=entropy, max_features=log2, n_estimators=7, score=0.8111111111111111, total=   0.0s\n",
      "[CV] criterion=entropy, max_features=log2, n_estimators=7 ............\n",
      "[CV]  criterion=entropy, max_features=log2, n_estimators=7, score=0.7640449438202247, total=   0.0s\n",
      "[CV] criterion=entropy, max_features=log2, n_estimators=7 ............\n",
      "[CV]  criterion=entropy, max_features=log2, n_estimators=7, score=0.8089887640449438, total=   0.0s\n",
      "[CV] criterion=entropy, max_features=log2, n_estimators=7 ............\n",
      "[CV]  criterion=entropy, max_features=log2, n_estimators=7, score=0.8539325842696629, total=   0.0s\n",
      "[CV] criterion=entropy, max_features=log2, n_estimators=7 ............\n",
      "[CV]  criterion=entropy, max_features=log2, n_estimators=7, score=0.8426966292134831, total=   0.0s\n",
      "[CV] criterion=entropy, max_features=log2, n_estimators=7 ............\n",
      "[CV]  criterion=entropy, max_features=log2, n_estimators=7, score=0.8089887640449438, total=   0.0s\n",
      "[CV] criterion=entropy, max_features=log2, n_estimators=7 ............\n",
      "[CV]  criterion=entropy, max_features=log2, n_estimators=7, score=0.7528089887640449, total=   0.0s\n",
      "[CV] criterion=entropy, max_features=log2, n_estimators=7 ............\n",
      "[CV]  criterion=entropy, max_features=log2, n_estimators=7, score=0.8314606741573034, total=   0.0s\n",
      "[CV] criterion=entropy, max_features=log2, n_estimators=7 ............\n",
      "[CV]  criterion=entropy, max_features=log2, n_estimators=7, score=0.8409090909090909, total=   0.0s\n",
      "[CV] criterion=entropy, max_features=log2, n_estimators=8 ............\n",
      "[CV]  criterion=entropy, max_features=log2, n_estimators=8, score=0.7666666666666667, total=   0.0s\n",
      "[CV] criterion=entropy, max_features=log2, n_estimators=8 ............\n",
      "[CV]  criterion=entropy, max_features=log2, n_estimators=8, score=0.8333333333333334, total=   0.0s\n",
      "[CV] criterion=entropy, max_features=log2, n_estimators=8 ............\n",
      "[CV]  criterion=entropy, max_features=log2, n_estimators=8, score=0.7865168539325843, total=   0.0s\n",
      "[CV] criterion=entropy, max_features=log2, n_estimators=8 ............\n",
      "[CV]  criterion=entropy, max_features=log2, n_estimators=8, score=0.8426966292134831, total=   0.0s\n",
      "[CV] criterion=entropy, max_features=log2, n_estimators=8 ............\n",
      "[CV]  criterion=entropy, max_features=log2, n_estimators=8, score=0.8539325842696629, total=   0.0s\n",
      "[CV] criterion=entropy, max_features=log2, n_estimators=8 ............\n",
      "[CV]  criterion=entropy, max_features=log2, n_estimators=8, score=0.8651685393258427, total=   0.0s\n",
      "[CV] criterion=entropy, max_features=log2, n_estimators=8 ............\n",
      "[CV]  criterion=entropy, max_features=log2, n_estimators=8, score=0.8089887640449438, total=   0.0s\n",
      "[CV] criterion=entropy, max_features=log2, n_estimators=8 ............\n",
      "[CV]  criterion=entropy, max_features=log2, n_estimators=8, score=0.7752808988764045, total=   0.0s\n",
      "[CV] criterion=entropy, max_features=log2, n_estimators=8 ............\n",
      "[CV]  criterion=entropy, max_features=log2, n_estimators=8, score=0.8314606741573034, total=   0.0s\n",
      "[CV] criterion=entropy, max_features=log2, n_estimators=8 ............\n",
      "[CV]  criterion=entropy, max_features=log2, n_estimators=8, score=0.8522727272727273, total=   0.0s\n",
      "[CV] criterion=entropy, max_features=log2, n_estimators=9 ............\n",
      "[CV]  criterion=entropy, max_features=log2, n_estimators=9, score=0.7222222222222222, total=   0.0s\n",
      "[CV] criterion=entropy, max_features=log2, n_estimators=9 ............\n",
      "[CV]  criterion=entropy, max_features=log2, n_estimators=9, score=0.8333333333333334, total=   0.0s\n",
      "[CV] criterion=entropy, max_features=log2, n_estimators=9 ............\n",
      "[CV]  criterion=entropy, max_features=log2, n_estimators=9, score=0.7640449438202247, total=   0.0s\n",
      "[CV] criterion=entropy, max_features=log2, n_estimators=9 ............\n",
      "[CV]  criterion=entropy, max_features=log2, n_estimators=9, score=0.8202247191011236, total=   0.0s\n",
      "[CV] criterion=entropy, max_features=log2, n_estimators=9 ............\n",
      "[CV]  criterion=entropy, max_features=log2, n_estimators=9, score=0.8314606741573034, total=   0.0s\n",
      "[CV] criterion=entropy, max_features=log2, n_estimators=9 ............\n",
      "[CV]  criterion=entropy, max_features=log2, n_estimators=9, score=0.8089887640449438, total=   0.0s\n",
      "[CV] criterion=entropy, max_features=log2, n_estimators=9 ............\n",
      "[CV]  criterion=entropy, max_features=log2, n_estimators=9, score=0.8089887640449438, total=   0.0s\n",
      "[CV] criterion=entropy, max_features=log2, n_estimators=9 ............\n",
      "[CV]  criterion=entropy, max_features=log2, n_estimators=9, score=0.7303370786516854, total=   0.0s\n",
      "[CV] criterion=entropy, max_features=log2, n_estimators=9 ............\n",
      "[CV]  criterion=entropy, max_features=log2, n_estimators=9, score=0.797752808988764, total=   0.0s\n",
      "[CV] criterion=entropy, max_features=log2, n_estimators=9 ............\n",
      "[CV]  criterion=entropy, max_features=log2, n_estimators=9, score=0.8181818181818182, total=   0.0s\n",
      "[CV] criterion=entropy, max_features=log2, n_estimators=10 ...........\n",
      "[CV]  criterion=entropy, max_features=log2, n_estimators=10, score=0.7444444444444445, total=   0.0s\n",
      "[CV] criterion=entropy, max_features=log2, n_estimators=10 ...........\n",
      "[CV]  criterion=entropy, max_features=log2, n_estimators=10, score=0.8111111111111111, total=   0.0s\n",
      "[CV] criterion=entropy, max_features=log2, n_estimators=10 ...........\n",
      "[CV]  criterion=entropy, max_features=log2, n_estimators=10, score=0.7640449438202247, total=   0.0s\n",
      "[CV] criterion=entropy, max_features=log2, n_estimators=10 ...........\n",
      "[CV]  criterion=entropy, max_features=log2, n_estimators=10, score=0.8314606741573034, total=   0.0s\n",
      "[CV] criterion=entropy, max_features=log2, n_estimators=10 ...........\n",
      "[CV]  criterion=entropy, max_features=log2, n_estimators=10, score=0.8202247191011236, total=   0.0s\n",
      "[CV] criterion=entropy, max_features=log2, n_estimators=10 ...........\n",
      "[CV]  criterion=entropy, max_features=log2, n_estimators=10, score=0.8314606741573034, total=   0.0s\n",
      "[CV] criterion=entropy, max_features=log2, n_estimators=10 ...........\n",
      "[CV]  criterion=entropy, max_features=log2, n_estimators=10, score=0.8314606741573034, total=   0.0s\n",
      "[CV] criterion=entropy, max_features=log2, n_estimators=10 ...........\n",
      "[CV]  criterion=entropy, max_features=log2, n_estimators=10, score=0.7528089887640449, total=   0.0s\n",
      "[CV] criterion=entropy, max_features=log2, n_estimators=10 ...........\n",
      "[CV]  criterion=entropy, max_features=log2, n_estimators=10, score=0.8426966292134831, total=   0.0s\n",
      "[CV] criterion=entropy, max_features=log2, n_estimators=10 ...........\n",
      "[CV]  criterion=entropy, max_features=log2, n_estimators=10, score=0.8295454545454546, total=   0.0s\n"
     ]
    },
    {
     "name": "stderr",
     "output_type": "stream",
     "text": [
      "[Parallel(n_jobs=1)]: Done 320 out of 320 | elapsed:    7.4s finished\n"
     ]
    },
    {
     "data": {
      "text/plain": [
       "GridSearchCV(cv=10, error_score='raise',\n",
       "       estimator=RandomForestClassifier(bootstrap=True, class_weight=None, criterion='gini',\n",
       "            max_depth=None, max_features='auto', max_leaf_nodes=None,\n",
       "            min_impurity_decrease=0.0, min_impurity_split=None,\n",
       "            min_samples_leaf=1, min_samples_split=2,\n",
       "            min_weight_fraction_leaf=0.0, n_estimators=10, n_jobs=1,\n",
       "            oob_score=False, random_state=None, verbose=0,\n",
       "            warm_start=False),\n",
       "       fit_params=None, iid=True, n_jobs=1,\n",
       "       param_grid={'n_estimators': [3, 4, 5, 6, 7, 8, 9, 10], 'criterion': ['gini', 'entropy'], 'max_features': ['sqrt', 'log2']},\n",
       "       pre_dispatch='2*n_jobs', refit=True, return_train_score='warn',\n",
       "       scoring='accuracy', verbose=3)"
      ]
     },
     "execution_count": 728,
     "metadata": {},
     "output_type": "execute_result"
    }
   ],
   "source": [
    "grid_search.fit(X_train, y_train)"
   ]
  },
  {
   "cell_type": "code",
   "execution_count": 729,
   "metadata": {},
   "outputs": [
    {
     "data": {
      "text/plain": [
       "{'criterion': 'entropy', 'max_features': 'sqrt', 'n_estimators': 10}"
      ]
     },
     "execution_count": 729,
     "metadata": {},
     "output_type": "execute_result"
    }
   ],
   "source": [
    "grid_search.best_params_"
   ]
  },
  {
   "cell_type": "code",
   "execution_count": 730,
   "metadata": {},
   "outputs": [
    {
     "data": {
      "text/plain": [
       "0.8237934904601572"
      ]
     },
     "execution_count": 730,
     "metadata": {},
     "output_type": "execute_result"
    }
   ],
   "source": [
    "grid_search.best_score_"
   ]
  },
  {
   "cell_type": "code",
   "execution_count": 737,
   "metadata": {},
   "outputs": [],
   "source": [
    "def submit(classifier, test_set, file_name='submission.csv'):\n",
    "    y_pred = classifier.predict(preprocess_pipeline.fit_transform(test_set)).astype(int)\n",
    "    d = {'PassengerId' : [892 + i for i in range(0, len(test_set))], 'Survived' : y_pred}\n",
    "    submission = pd.DataFrame(data=d)\n",
    "    submission.to_csv(file_name, index=False)"
   ]
  },
  {
   "cell_type": "code",
   "execution_count": 738,
   "metadata": {},
   "outputs": [],
   "source": [
    "submit(grid_search.best_estimator_, test_dataset, \"random_forest.csv\")"
   ]
  },
  {
   "cell_type": "markdown",
   "metadata": {},
   "source": [
    "## Reaching Better Score"
   ]
  },
  {
   "cell_type": "markdown",
   "metadata": {},
   "source": [
    "First using Adaboost"
   ]
  },
  {
   "cell_type": "code",
   "execution_count": 739,
   "metadata": {},
   "outputs": [
    {
     "data": {
      "text/plain": [
       "0.821578580226095"
      ]
     },
     "execution_count": 739,
     "metadata": {},
     "output_type": "execute_result"
    }
   ],
   "source": [
    "from sklearn.ensemble import AdaBoostClassifier\n",
    "\n",
    "adaboost_clf = AdaBoostClassifier()\n",
    "cross_val_score(adaboost_clf, X_train, y_train, cv=5).mean()"
   ]
  },
  {
   "cell_type": "code",
   "execution_count": 740,
   "metadata": {},
   "outputs": [],
   "source": [
    "param_grid = {\n",
    "    'n_estimators':[100, 150, 200],\n",
    "    'learning_rate':[0.3, 0.4]\n",
    "}\n",
    "\n",
    "grid_search_adaboost = GridSearchCV(AdaBoostClassifier(), param_grid, cv=10, scoring='accuracy', verbose=3)"
   ]
  },
  {
   "cell_type": "code",
   "execution_count": 741,
   "metadata": {},
   "outputs": [
    {
     "name": "stdout",
     "output_type": "stream",
     "text": [
      "Fitting 10 folds for each of 6 candidates, totalling 60 fits\n",
      "[CV] learning_rate=0.3, n_estimators=100 .............................\n",
      "[CV]  learning_rate=0.3, n_estimators=100, score=0.8111111111111111, total=   0.1s\n",
      "[CV] learning_rate=0.3, n_estimators=100 .............................\n"
     ]
    },
    {
     "name": "stderr",
     "output_type": "stream",
     "text": [
      "[Parallel(n_jobs=1)]: Done   1 out of   1 | elapsed:    0.1s remaining:    0.0s\n",
      "[Parallel(n_jobs=1)]: Done   2 out of   2 | elapsed:    0.3s remaining:    0.0s\n"
     ]
    },
    {
     "name": "stdout",
     "output_type": "stream",
     "text": [
      "[CV]  learning_rate=0.3, n_estimators=100, score=0.8222222222222222, total=   0.1s\n",
      "[CV] learning_rate=0.3, n_estimators=100 .............................\n",
      "[CV]  learning_rate=0.3, n_estimators=100, score=0.7865168539325843, total=   0.1s\n",
      "[CV] learning_rate=0.3, n_estimators=100 .............................\n",
      "[CV]  learning_rate=0.3, n_estimators=100, score=0.8651685393258427, total=   0.1s\n",
      "[CV] learning_rate=0.3, n_estimators=100 .............................\n",
      "[CV]  learning_rate=0.3, n_estimators=100, score=0.8314606741573034, total=   0.1s\n",
      "[CV] learning_rate=0.3, n_estimators=100 .............................\n",
      "[CV]  learning_rate=0.3, n_estimators=100, score=0.8089887640449438, total=   0.1s\n",
      "[CV] learning_rate=0.3, n_estimators=100 .............................\n",
      "[CV]  learning_rate=0.3, n_estimators=100, score=0.8426966292134831, total=   0.1s\n",
      "[CV] learning_rate=0.3, n_estimators=100 .............................\n",
      "[CV]  learning_rate=0.3, n_estimators=100, score=0.8089887640449438, total=   0.1s\n",
      "[CV] learning_rate=0.3, n_estimators=100 .............................\n",
      "[CV]  learning_rate=0.3, n_estimators=100, score=0.8426966292134831, total=   0.1s\n",
      "[CV] learning_rate=0.3, n_estimators=100 .............................\n",
      "[CV]  learning_rate=0.3, n_estimators=100, score=0.8522727272727273, total=   0.1s\n",
      "[CV] learning_rate=0.3, n_estimators=150 .............................\n",
      "[CV]  learning_rate=0.3, n_estimators=150, score=0.8111111111111111, total=   0.2s\n",
      "[CV] learning_rate=0.3, n_estimators=150 .............................\n",
      "[CV]  learning_rate=0.3, n_estimators=150, score=0.8333333333333334, total=   0.2s\n",
      "[CV] learning_rate=0.3, n_estimators=150 .............................\n",
      "[CV]  learning_rate=0.3, n_estimators=150, score=0.7865168539325843, total=   0.1s\n",
      "[CV] learning_rate=0.3, n_estimators=150 .............................\n",
      "[CV]  learning_rate=0.3, n_estimators=150, score=0.8651685393258427, total=   0.1s\n",
      "[CV] learning_rate=0.3, n_estimators=150 .............................\n",
      "[CV]  learning_rate=0.3, n_estimators=150, score=0.8314606741573034, total=   0.1s\n",
      "[CV] learning_rate=0.3, n_estimators=150 .............................\n",
      "[CV]  learning_rate=0.3, n_estimators=150, score=0.8089887640449438, total=   0.2s\n",
      "[CV] learning_rate=0.3, n_estimators=150 .............................\n",
      "[CV]  learning_rate=0.3, n_estimators=150, score=0.8426966292134831, total=   0.1s\n",
      "[CV] learning_rate=0.3, n_estimators=150 .............................\n",
      "[CV]  learning_rate=0.3, n_estimators=150, score=0.8089887640449438, total=   0.1s\n",
      "[CV] learning_rate=0.3, n_estimators=150 .............................\n",
      "[CV]  learning_rate=0.3, n_estimators=150, score=0.8426966292134831, total=   0.1s\n",
      "[CV] learning_rate=0.3, n_estimators=150 .............................\n",
      "[CV]  learning_rate=0.3, n_estimators=150, score=0.8522727272727273, total=   0.1s\n",
      "[CV] learning_rate=0.3, n_estimators=200 .............................\n",
      "[CV] ... learning_rate=0.3, n_estimators=200, score=0.8, total=   0.2s\n",
      "[CV] learning_rate=0.3, n_estimators=200 .............................\n",
      "[CV]  learning_rate=0.3, n_estimators=200, score=0.8333333333333334, total=   0.3s\n",
      "[CV] learning_rate=0.3, n_estimators=200 .............................\n",
      "[CV]  learning_rate=0.3, n_estimators=200, score=0.7865168539325843, total=   0.2s\n",
      "[CV] learning_rate=0.3, n_estimators=200 .............................\n",
      "[CV]  learning_rate=0.3, n_estimators=200, score=0.8651685393258427, total=   0.3s\n",
      "[CV] learning_rate=0.3, n_estimators=200 .............................\n",
      "[CV]  learning_rate=0.3, n_estimators=200, score=0.8202247191011236, total=   0.2s\n",
      "[CV] learning_rate=0.3, n_estimators=200 .............................\n",
      "[CV]  learning_rate=0.3, n_estimators=200, score=0.8089887640449438, total=   0.3s\n",
      "[CV] learning_rate=0.3, n_estimators=200 .............................\n",
      "[CV]  learning_rate=0.3, n_estimators=200, score=0.8426966292134831, total=   0.2s\n",
      "[CV] learning_rate=0.3, n_estimators=200 .............................\n",
      "[CV]  learning_rate=0.3, n_estimators=200, score=0.8089887640449438, total=   0.2s\n",
      "[CV] learning_rate=0.3, n_estimators=200 .............................\n",
      "[CV]  learning_rate=0.3, n_estimators=200, score=0.8539325842696629, total=   0.2s\n",
      "[CV] learning_rate=0.3, n_estimators=200 .............................\n",
      "[CV]  learning_rate=0.3, n_estimators=200, score=0.8522727272727273, total=   0.2s\n",
      "[CV] learning_rate=0.4, n_estimators=100 .............................\n",
      "[CV]  learning_rate=0.4, n_estimators=100, score=0.8111111111111111, total=   0.0s\n",
      "[CV] learning_rate=0.4, n_estimators=100 .............................\n",
      "[CV]  learning_rate=0.4, n_estimators=100, score=0.8333333333333334, total=   0.1s\n",
      "[CV] learning_rate=0.4, n_estimators=100 .............................\n",
      "[CV]  learning_rate=0.4, n_estimators=100, score=0.7865168539325843, total=   0.1s\n",
      "[CV] learning_rate=0.4, n_estimators=100 .............................\n",
      "[CV]  learning_rate=0.4, n_estimators=100, score=0.8651685393258427, total=   0.1s\n",
      "[CV] learning_rate=0.4, n_estimators=100 .............................\n",
      "[CV]  learning_rate=0.4, n_estimators=100, score=0.8202247191011236, total=   0.1s\n",
      "[CV] learning_rate=0.4, n_estimators=100 .............................\n",
      "[CV]  learning_rate=0.4, n_estimators=100, score=0.8089887640449438, total=   0.1s\n",
      "[CV] learning_rate=0.4, n_estimators=100 .............................\n",
      "[CV]  learning_rate=0.4, n_estimators=100, score=0.8426966292134831, total=   0.1s\n",
      "[CV] learning_rate=0.4, n_estimators=100 .............................\n",
      "[CV]  learning_rate=0.4, n_estimators=100, score=0.8089887640449438, total=   0.1s\n",
      "[CV] learning_rate=0.4, n_estimators=100 .............................\n",
      "[CV]  learning_rate=0.4, n_estimators=100, score=0.8426966292134831, total=   0.1s\n",
      "[CV] learning_rate=0.4, n_estimators=100 .............................\n",
      "[CV]  learning_rate=0.4, n_estimators=100, score=0.8522727272727273, total=   0.1s\n",
      "[CV] learning_rate=0.4, n_estimators=150 .............................\n",
      "[CV] ... learning_rate=0.4, n_estimators=150, score=0.8, total=   0.2s\n",
      "[CV] learning_rate=0.4, n_estimators=150 .............................\n",
      "[CV]  learning_rate=0.4, n_estimators=150, score=0.8333333333333334, total=   0.2s\n",
      "[CV] learning_rate=0.4, n_estimators=150 .............................\n",
      "[CV]  learning_rate=0.4, n_estimators=150, score=0.7865168539325843, total=   0.1s\n",
      "[CV] learning_rate=0.4, n_estimators=150 .............................\n",
      "[CV]  learning_rate=0.4, n_estimators=150, score=0.8764044943820225, total=   0.1s\n",
      "[CV] learning_rate=0.4, n_estimators=150 .............................\n",
      "[CV]  learning_rate=0.4, n_estimators=150, score=0.8202247191011236, total=   0.1s\n",
      "[CV] learning_rate=0.4, n_estimators=150 .............................\n",
      "[CV]  learning_rate=0.4, n_estimators=150, score=0.8089887640449438, total=   0.2s\n",
      "[CV] learning_rate=0.4, n_estimators=150 .............................\n",
      "[CV]  learning_rate=0.4, n_estimators=150, score=0.8426966292134831, total=   0.1s\n",
      "[CV] learning_rate=0.4, n_estimators=150 .............................\n",
      "[CV]  learning_rate=0.4, n_estimators=150, score=0.8089887640449438, total=   0.1s\n",
      "[CV] learning_rate=0.4, n_estimators=150 .............................\n",
      "[CV]  learning_rate=0.4, n_estimators=150, score=0.8539325842696629, total=   0.1s\n",
      "[CV] learning_rate=0.4, n_estimators=150 .............................\n",
      "[CV]  learning_rate=0.4, n_estimators=150, score=0.8522727272727273, total=   0.2s\n",
      "[CV] learning_rate=0.4, n_estimators=200 .............................\n",
      "[CV] ... learning_rate=0.4, n_estimators=200, score=0.8, total=   0.2s\n",
      "[CV] learning_rate=0.4, n_estimators=200 .............................\n",
      "[CV]  learning_rate=0.4, n_estimators=200, score=0.8444444444444444, total=   0.2s\n",
      "[CV] learning_rate=0.4, n_estimators=200 .............................\n",
      "[CV]  learning_rate=0.4, n_estimators=200, score=0.7865168539325843, total=   0.2s\n",
      "[CV] learning_rate=0.4, n_estimators=200 .............................\n",
      "[CV]  learning_rate=0.4, n_estimators=200, score=0.8764044943820225, total=   0.2s\n",
      "[CV] learning_rate=0.4, n_estimators=200 .............................\n",
      "[CV]  learning_rate=0.4, n_estimators=200, score=0.8202247191011236, total=   0.2s\n",
      "[CV] learning_rate=0.4, n_estimators=200 .............................\n"
     ]
    },
    {
     "name": "stdout",
     "output_type": "stream",
     "text": [
      "[CV]  learning_rate=0.4, n_estimators=200, score=0.8089887640449438, total=   0.2s\n",
      "[CV] learning_rate=0.4, n_estimators=200 .............................\n",
      "[CV]  learning_rate=0.4, n_estimators=200, score=0.8426966292134831, total=   0.2s\n",
      "[CV] learning_rate=0.4, n_estimators=200 .............................\n",
      "[CV]  learning_rate=0.4, n_estimators=200, score=0.7865168539325843, total=   0.2s\n",
      "[CV] learning_rate=0.4, n_estimators=200 .............................\n",
      "[CV]  learning_rate=0.4, n_estimators=200, score=0.8539325842696629, total=   0.2s\n",
      "[CV] learning_rate=0.4, n_estimators=200 .............................\n",
      "[CV]  learning_rate=0.4, n_estimators=200, score=0.8522727272727273, total=   0.2s\n"
     ]
    },
    {
     "name": "stderr",
     "output_type": "stream",
     "text": [
      "[Parallel(n_jobs=1)]: Done  60 out of  60 | elapsed:   16.6s finished\n"
     ]
    },
    {
     "data": {
      "text/plain": [
       "GridSearchCV(cv=10, error_score='raise',\n",
       "       estimator=AdaBoostClassifier(algorithm='SAMME.R', base_estimator=None,\n",
       "          learning_rate=1.0, n_estimators=50, random_state=None),\n",
       "       fit_params=None, iid=True, n_jobs=1,\n",
       "       param_grid={'n_estimators': [100, 150, 200], 'learning_rate': [0.3, 0.4]},\n",
       "       pre_dispatch='2*n_jobs', refit=True, return_train_score='warn',\n",
       "       scoring='accuracy', verbose=3)"
      ]
     },
     "execution_count": 741,
     "metadata": {},
     "output_type": "execute_result"
    }
   ],
   "source": [
    "grid_search_adaboost.fit(X_train, y_train)"
   ]
  },
  {
   "cell_type": "code",
   "execution_count": 742,
   "metadata": {},
   "outputs": [
    {
     "data": {
      "text/plain": [
       "0.8282828282828283"
      ]
     },
     "execution_count": 742,
     "metadata": {},
     "output_type": "execute_result"
    }
   ],
   "source": [
    "grid_search_adaboost.best_score_"
   ]
  },
  {
   "cell_type": "code",
   "execution_count": 889,
   "metadata": {},
   "outputs": [
    {
     "data": {
      "text/plain": [
       "AdaBoostClassifier(algorithm='SAMME.R', base_estimator=None,\n",
       "          learning_rate=0.3, n_estimators=150, random_state=None)"
      ]
     },
     "execution_count": 889,
     "metadata": {},
     "output_type": "execute_result"
    }
   ],
   "source": [
    "grid_search_adaboost.best_estimator_"
   ]
  },
  {
   "cell_type": "markdown",
   "metadata": {},
   "source": [
    "Still lower than the Random Forest Classifier"
   ]
  },
  {
   "cell_type": "code",
   "execution_count": 744,
   "metadata": {},
   "outputs": [],
   "source": [
    "submit(grid_search_adaboost, test_dataset, 'New-adaboost.csv') ##Scored 0.75598 , impouvement"
   ]
  },
  {
   "cell_type": "markdown",
   "metadata": {},
   "source": [
    "Using xgboost"
   ]
  },
  {
   "cell_type": "code",
   "execution_count": 745,
   "metadata": {},
   "outputs": [],
   "source": [
    "import os\n",
    "\n",
    "mingw_path = 'C:\\\\Program Files\\\\mingw-w64\\\\x86_64-7.3.0-posix-seh-rt_v5-rev0'\n",
    "os.environ['PATH'] = mingw_path + ';' + os.environ['PATH']"
   ]
  },
  {
   "cell_type": "code",
   "execution_count": 746,
   "metadata": {},
   "outputs": [],
   "source": [
    "import xgboost as xgb"
   ]
  },
  {
   "cell_type": "code",
   "execution_count": 747,
   "metadata": {},
   "outputs": [
    {
     "name": "stdout",
     "output_type": "stream",
     "text": [
      "[CV]  ................................................................\n",
      "[CV] ....................... , score=0.7888888888888889, total=   0.0s\n",
      "[CV]  ................................................................\n",
      "[CV] ....................... , score=0.8222222222222222, total=   0.0s\n",
      "[CV]  ................................................................\n",
      "[CV] ....................... , score=0.7640449438202247, total=   0.0s\n",
      "[CV]  ................................................................\n"
     ]
    },
    {
     "name": "stderr",
     "output_type": "stream",
     "text": [
      "c:\\users\\bennej~1\\docume~1\\ml\\env\\lib\\site-packages\\sklearn\\preprocessing\\label.py:151: DeprecationWarning: The truth value of an empty array is ambiguous. Returning False, but in future this will result in an error. Use `array.size > 0` to check that an array is not empty.\n",
      "  if diff:\n",
      "[Parallel(n_jobs=1)]: Done   1 out of   1 | elapsed:    0.0s remaining:    0.0s\n",
      "c:\\users\\bennej~1\\docume~1\\ml\\env\\lib\\site-packages\\sklearn\\preprocessing\\label.py:151: DeprecationWarning: The truth value of an empty array is ambiguous. Returning False, but in future this will result in an error. Use `array.size > 0` to check that an array is not empty.\n",
      "  if diff:\n",
      "[Parallel(n_jobs=1)]: Done   2 out of   2 | elapsed:    0.1s remaining:    0.0s\n",
      "c:\\users\\bennej~1\\docume~1\\ml\\env\\lib\\site-packages\\sklearn\\preprocessing\\label.py:151: DeprecationWarning: The truth value of an empty array is ambiguous. Returning False, but in future this will result in an error. Use `array.size > 0` to check that an array is not empty.\n",
      "  if diff:\n",
      "c:\\users\\bennej~1\\docume~1\\ml\\env\\lib\\site-packages\\sklearn\\preprocessing\\label.py:151: DeprecationWarning: The truth value of an empty array is ambiguous. Returning False, but in future this will result in an error. Use `array.size > 0` to check that an array is not empty.\n",
      "  if diff:\n"
     ]
    },
    {
     "name": "stdout",
     "output_type": "stream",
     "text": [
      "[CV] ....................... , score=0.8764044943820225, total=   0.0s\n",
      "[CV]  ................................................................\n",
      "[CV] ....................... , score=0.8651685393258427, total=   0.0s\n",
      "[CV]  ................................................................\n",
      "[CV] ....................... , score=0.8426966292134831, total=   0.0s\n",
      "[CV]  ................................................................\n",
      "[CV] ....................... , score=0.8539325842696629, total=   0.0s\n",
      "[CV]  ................................................................\n"
     ]
    },
    {
     "name": "stderr",
     "output_type": "stream",
     "text": [
      "c:\\users\\bennej~1\\docume~1\\ml\\env\\lib\\site-packages\\sklearn\\preprocessing\\label.py:151: DeprecationWarning: The truth value of an empty array is ambiguous. Returning False, but in future this will result in an error. Use `array.size > 0` to check that an array is not empty.\n",
      "  if diff:\n",
      "c:\\users\\bennej~1\\docume~1\\ml\\env\\lib\\site-packages\\sklearn\\preprocessing\\label.py:151: DeprecationWarning: The truth value of an empty array is ambiguous. Returning False, but in future this will result in an error. Use `array.size > 0` to check that an array is not empty.\n",
      "  if diff:\n",
      "c:\\users\\bennej~1\\docume~1\\ml\\env\\lib\\site-packages\\sklearn\\preprocessing\\label.py:151: DeprecationWarning: The truth value of an empty array is ambiguous. Returning False, but in future this will result in an error. Use `array.size > 0` to check that an array is not empty.\n",
      "  if diff:\n",
      "c:\\users\\bennej~1\\docume~1\\ml\\env\\lib\\site-packages\\sklearn\\preprocessing\\label.py:151: DeprecationWarning: The truth value of an empty array is ambiguous. Returning False, but in future this will result in an error. Use `array.size > 0` to check that an array is not empty.\n",
      "  if diff:\n"
     ]
    },
    {
     "name": "stdout",
     "output_type": "stream",
     "text": [
      "[CV] ....................... , score=0.7865168539325843, total=   0.0s\n",
      "[CV]  ................................................................\n",
      "[CV] ........................ , score=0.898876404494382, total=   0.0s\n",
      "[CV]  ................................................................\n",
      "[CV] ....................... , score=0.8295454545454546, total=   0.0s\n"
     ]
    },
    {
     "name": "stderr",
     "output_type": "stream",
     "text": [
      "c:\\users\\bennej~1\\docume~1\\ml\\env\\lib\\site-packages\\sklearn\\preprocessing\\label.py:151: DeprecationWarning: The truth value of an empty array is ambiguous. Returning False, but in future this will result in an error. Use `array.size > 0` to check that an array is not empty.\n",
      "  if diff:\n",
      "c:\\users\\bennej~1\\docume~1\\ml\\env\\lib\\site-packages\\sklearn\\preprocessing\\label.py:151: DeprecationWarning: The truth value of an empty array is ambiguous. Returning False, but in future this will result in an error. Use `array.size > 0` to check that an array is not empty.\n",
      "  if diff:\n",
      "[Parallel(n_jobs=1)]: Done  10 out of  10 | elapsed:    0.5s finished\n"
     ]
    },
    {
     "data": {
      "text/plain": [
       "0.8328297015094769"
      ]
     },
     "execution_count": 747,
     "metadata": {},
     "output_type": "execute_result"
    }
   ],
   "source": [
    "xgb_clf = xgb.XGBClassifier()\n",
    "cross_val_score(xgb_clf, X_train, y_train, cv=10, scoring='accuracy', verbose=3).mean()"
   ]
  },
  {
   "cell_type": "markdown",
   "metadata": {},
   "source": [
    "Already better score, now let's try tuning the params"
   ]
  },
  {
   "cell_type": "code",
   "execution_count": 748,
   "metadata": {},
   "outputs": [],
   "source": [
    "X_train_xgb = xgb.DMatrix(X_train)"
   ]
  },
  {
   "cell_type": "code",
   "execution_count": 749,
   "metadata": {},
   "outputs": [
    {
     "data": {
      "text/html": [
       "<div>\n",
       "<style scoped>\n",
       "    .dataframe tbody tr th:only-of-type {\n",
       "        vertical-align: middle;\n",
       "    }\n",
       "\n",
       "    .dataframe tbody tr th {\n",
       "        vertical-align: top;\n",
       "    }\n",
       "\n",
       "    .dataframe thead th {\n",
       "        text-align: right;\n",
       "    }\n",
       "</style>\n",
       "<table border=\"1\" class=\"dataframe\">\n",
       "  <thead>\n",
       "    <tr style=\"text-align: right;\">\n",
       "      <th></th>\n",
       "      <th>Age</th>\n",
       "      <th>Cabin</th>\n",
       "      <th>Embarked</th>\n",
       "      <th>Fare</th>\n",
       "      <th>Name</th>\n",
       "      <th>Parch</th>\n",
       "      <th>PassengerId</th>\n",
       "      <th>Pclass</th>\n",
       "      <th>Sex</th>\n",
       "      <th>SibSp</th>\n",
       "      <th>Survived</th>\n",
       "      <th>Ticket</th>\n",
       "      <th>Title</th>\n",
       "      <th>AgeBucket</th>\n",
       "    </tr>\n",
       "  </thead>\n",
       "  <tbody>\n",
       "    <tr>\n",
       "      <th>0</th>\n",
       "      <td>22.0</td>\n",
       "      <td>NaN</td>\n",
       "      <td>S</td>\n",
       "      <td>7.2500</td>\n",
       "      <td>Braund, Mr. Owen Harris</td>\n",
       "      <td>0</td>\n",
       "      <td>1</td>\n",
       "      <td>3</td>\n",
       "      <td>male</td>\n",
       "      <td>1</td>\n",
       "      <td>0.0</td>\n",
       "      <td>A/5 21171</td>\n",
       "      <td>Mr</td>\n",
       "      <td>1.0</td>\n",
       "    </tr>\n",
       "    <tr>\n",
       "      <th>1</th>\n",
       "      <td>38.0</td>\n",
       "      <td>C85</td>\n",
       "      <td>C</td>\n",
       "      <td>71.2833</td>\n",
       "      <td>Cumings, Mrs. John Bradley (Florence Briggs Th...</td>\n",
       "      <td>0</td>\n",
       "      <td>2</td>\n",
       "      <td>1</td>\n",
       "      <td>female</td>\n",
       "      <td>1</td>\n",
       "      <td>1.0</td>\n",
       "      <td>PC 17599</td>\n",
       "      <td>Mrs</td>\n",
       "      <td>2.0</td>\n",
       "    </tr>\n",
       "    <tr>\n",
       "      <th>2</th>\n",
       "      <td>26.0</td>\n",
       "      <td>NaN</td>\n",
       "      <td>S</td>\n",
       "      <td>7.9250</td>\n",
       "      <td>Heikkinen, Miss. Laina</td>\n",
       "      <td>0</td>\n",
       "      <td>3</td>\n",
       "      <td>3</td>\n",
       "      <td>female</td>\n",
       "      <td>0</td>\n",
       "      <td>1.0</td>\n",
       "      <td>STON/O2. 3101282</td>\n",
       "      <td>Miss</td>\n",
       "      <td>1.0</td>\n",
       "    </tr>\n",
       "    <tr>\n",
       "      <th>3</th>\n",
       "      <td>35.0</td>\n",
       "      <td>C123</td>\n",
       "      <td>S</td>\n",
       "      <td>53.1000</td>\n",
       "      <td>Futrelle, Mrs. Jacques Heath (Lily May Peel)</td>\n",
       "      <td>0</td>\n",
       "      <td>4</td>\n",
       "      <td>1</td>\n",
       "      <td>female</td>\n",
       "      <td>1</td>\n",
       "      <td>1.0</td>\n",
       "      <td>113803</td>\n",
       "      <td>Mrs</td>\n",
       "      <td>2.0</td>\n",
       "    </tr>\n",
       "    <tr>\n",
       "      <th>4</th>\n",
       "      <td>35.0</td>\n",
       "      <td>NaN</td>\n",
       "      <td>S</td>\n",
       "      <td>8.0500</td>\n",
       "      <td>Allen, Mr. William Henry</td>\n",
       "      <td>0</td>\n",
       "      <td>5</td>\n",
       "      <td>3</td>\n",
       "      <td>male</td>\n",
       "      <td>0</td>\n",
       "      <td>0.0</td>\n",
       "      <td>373450</td>\n",
       "      <td>Mr</td>\n",
       "      <td>2.0</td>\n",
       "    </tr>\n",
       "  </tbody>\n",
       "</table>\n",
       "</div>"
      ],
      "text/plain": [
       "    Age Cabin Embarked     Fare  \\\n",
       "0  22.0   NaN        S   7.2500   \n",
       "1  38.0   C85        C  71.2833   \n",
       "2  26.0   NaN        S   7.9250   \n",
       "3  35.0  C123        S  53.1000   \n",
       "4  35.0   NaN        S   8.0500   \n",
       "\n",
       "                                                Name  Parch  PassengerId  \\\n",
       "0                            Braund, Mr. Owen Harris      0            1   \n",
       "1  Cumings, Mrs. John Bradley (Florence Briggs Th...      0            2   \n",
       "2                             Heikkinen, Miss. Laina      0            3   \n",
       "3       Futrelle, Mrs. Jacques Heath (Lily May Peel)      0            4   \n",
       "4                           Allen, Mr. William Henry      0            5   \n",
       "\n",
       "   Pclass     Sex  SibSp  Survived            Ticket Title  AgeBucket  \n",
       "0       3    male      1       0.0         A/5 21171    Mr        1.0  \n",
       "1       1  female      1       1.0          PC 17599   Mrs        2.0  \n",
       "2       3  female      0       1.0  STON/O2. 3101282  Miss        1.0  \n",
       "3       1  female      1       1.0            113803   Mrs        2.0  \n",
       "4       3    male      0       0.0            373450    Mr        2.0  "
      ]
     },
     "execution_count": 749,
     "metadata": {},
     "output_type": "execute_result"
    }
   ],
   "source": [
    "dataset.head()"
   ]
  },
  {
   "cell_type": "code",
   "execution_count": 750,
   "metadata": {},
   "outputs": [
    {
     "data": {
      "text/plain": [
       "(891, 22)"
      ]
     },
     "execution_count": 750,
     "metadata": {},
     "output_type": "execute_result"
    }
   ],
   "source": [
    "X_train.shape"
   ]
  },
  {
   "cell_type": "code",
   "execution_count": 751,
   "metadata": {},
   "outputs": [
    {
     "data": {
      "text/plain": [
       "array([1.  , 7.25, 0.  , 1.  , 0.  , 0.  , 0.  , 0.  , 0.  , 0.  , 1.  ,\n",
       "       0.  , 1.  , 0.  , 0.  , 1.  , 0.  , 0.  , 0.  , 1.  , 0.  , 0.  ])"
      ]
     },
     "execution_count": 751,
     "metadata": {},
     "output_type": "execute_result"
    }
   ],
   "source": [
    "X_train[0]"
   ]
  },
  {
   "cell_type": "code",
   "execution_count": 752,
   "metadata": {},
   "outputs": [],
   "source": [
    "label = [\"AgeBucket\", \"RelativesOnBoard\",\"Fare\", \"Pclass0\", \"Pclass1\",\"Pclass2\", \"Sex0\",\"Sex1\", \"Embarked0\", \"Embarked1\", \"Embarked2\", \"Title0\", \"Title1\", \"Title2\", \"Title3\", \"Title4\", \"Title5\", \"Title6\"]"
   ]
  },
  {
   "cell_type": "code",
   "execution_count": 753,
   "metadata": {},
   "outputs": [],
   "source": [
    "def get_score_with_f_name(xgb_model):\n",
    "    return dict((label[eval(key[1])], value) for (key, value) in xgb_model.get_booster().get_score().items())"
   ]
  },
  {
   "cell_type": "code",
   "execution_count": 754,
   "metadata": {},
   "outputs": [],
   "source": [
    "%matplotlib inline\n",
    "import matplotlib\n",
    "import matplotlib.pyplot as plt"
   ]
  },
  {
   "cell_type": "code",
   "execution_count": 784,
   "metadata": {},
   "outputs": [
    {
     "data": {
      "text/plain": [
       "<matplotlib.axes._subplots.AxesSubplot at 0x2168c415e80>"
      ]
     },
     "execution_count": 784,
     "metadata": {},
     "output_type": "execute_result"
    },
    {
     "data": {
      "image/png": "[encoded data removed]",
      "text/plain": [
       "<matplotlib.figure.Figure at 0x2168c4d9128>"
      ]
     },
     "metadata": {},
     "output_type": "display_data"
    }
   ],
   "source": [
    "xgb_clf.fit(X_train, y_train)\n",
    "xgb.plot_importance(get_score_with_f_name(xgb_clf))"
   ]
  },
  {
   "cell_type": "code",
   "execution_count": 785,
   "metadata": {},
   "outputs": [],
   "source": [
    "from sklearn.metrics import accuracy_score\n",
    "from sklearn.metrics import roc_auc_score"
   ]
  },
  {
   "cell_type": "code",
   "execution_count": 901,
   "metadata": {},
   "outputs": [],
   "source": [
    "def model_fit(alg, X, y, useTrainCV=True, cv_folds=5, early_stopping_rounds=100):\n",
    "    if useTrainCV:\n",
    "        xgb_params = alg.get_xgb_params()\n",
    "        xgtrain = xgb.DMatrix(X, label=y)\n",
    "        cvresult = xgb.cv(xgb_params, xgtrain, num_boost_round=alg.get_params()['n_estimators'], nfold=cv_folds,\n",
    "            metrics='auc', early_stopping_rounds=early_stopping_rounds, verbose_eval=False)\n",
    "        #To get the number of the trees\n",
    "        alg.set_params(n_estimators=cvresult.shape[0])\n",
    "        \n",
    "        #Fitting the algorithm on the data\n",
    "        alg.fit(X, y,eval_metric='auc')\n",
    "        \n",
    "        #Predict the dataset\n",
    "        \n",
    "        y_pred = alg.predict(X)\n",
    "        y_pred_proba = alg.predict_proba(X)[:,1]\n",
    "        \n",
    "        #Plotting results\n",
    "        \n",
    "        print(\"Model Report\")\n",
    "        print(\"Accuracy : %.4g\" % accuracy_score(y, y_pred))\n",
    "        print(\"AUC Score : %f\" % roc_auc_score(y, y_pred_proba))\n",
    "        \n",
    "        xgb.plot_importance(get_score_with_f_name(alg))\n",
    "\n",
    "model_fit(xgb_clf, X_train, y_train)"
   ]
  },
  {
   "cell_type": "code",
   "execution_count": 900,
   "metadata": {},
   "outputs": [
    {
     "name": "stderr",
     "output_type": "stream",
     "text": [
      "c:\\users\\bennej~1\\docume~1\\ml\\env\\lib\\site-packages\\sklearn\\preprocessing\\label.py:151: DeprecationWarning: The truth value of an empty array is ambiguous. Returning False, but in future this will result in an error. Use `array.size > 0` to check that an array is not empty.\n",
      "  if diff:\n"
     ]
    },
    {
     "name": "stdout",
     "output_type": "stream",
     "text": [
      "Model Report\n",
      "Accuracy : 0.8709\n",
      "AUC Score : 0.925116\n"
     ]
    },
    {
     "data": {
      "image/png": "[encoded data removed]",
      "text/plain": [
       "<matplotlib.figure.Figure at 0x2168ea0d978>"
      ]
     },
     "metadata": {},
     "output_type": "display_data"
    }
   ],
   "source": [
    "model_fit(xgb_clf, X_train, y_train)"
   ]
  },
  {
   "cell_type": "markdown",
   "metadata": {},
   "source": [
    "Tuning a model works as follows:\n",
    "<ol>\n",
    "<li>Start by picking a high **learning rate** value, say 0.1.</li>\n",
    "<li>Tune **tree-specific parameters** (max_depth, min_child_weight, gamma, subsample, colsample_bytree).</li>\n",
    "<li>Tune **Regularization parameters** (lamda, alpha) to reduce model complexity hence, increase its performance.</li>\n",
    "<li>**Lowering the learning rate**.</li>\n",
    "</ol>"
   ]
  },
  {
   "cell_type": "markdown",
   "metadata": {},
   "source": [
    "We start by picking some default values:"
   ]
  },
  {
   "cell_type": "code",
   "execution_count": 788,
   "metadata": {},
   "outputs": [],
   "source": [
    "xgb1 = xgb.XGBClassifier(\n",
    "    learning_rate=0.1,\n",
    "    n_estimators=1000,\n",
    "    max_depth=5,\n",
    "    min_child_weight=1,\n",
    "    gamma=0,\n",
    "    subsample=0.8,\n",
    "    colsample_bytree=0.8,\n",
    "    objective= 'binary:logistic',\n",
    "    nthread=4,\n",
    "    scale_pos_weight=1,\n",
    "    seed=42\n",
    ")"
   ]
  },
  {
   "cell_type": "code",
   "execution_count": 789,
   "metadata": {},
   "outputs": [
    {
     "name": "stdout",
     "output_type": "stream",
     "text": [
      "Model Report\n",
      "Accuracy : 0.908\n",
      "AUC Score : 0.958654\n"
     ]
    },
    {
     "name": "stderr",
     "output_type": "stream",
     "text": [
      "c:\\users\\bennej~1\\docume~1\\ml\\env\\lib\\site-packages\\sklearn\\preprocessing\\label.py:151: DeprecationWarning: The truth value of an empty array is ambiguous. Returning False, but in future this will result in an error. Use `array.size > 0` to check that an array is not empty.\n",
      "  if diff:\n"
     ]
    },
    {
     "data": {
      "image/png": "[encoded data removed]",
      "text/plain": [
       "<matplotlib.figure.Figure at 0x2168c3f17b8>"
      ]
     },
     "metadata": {},
     "output_type": "display_data"
    }
   ],
   "source": [
    "model_fit(xgb1, X_train, y_train)"
   ]
  },
  {
   "cell_type": "markdown",
   "metadata": {},
   "source": [
    "Tuning **max_depth** and **min_child_weight**"
   ]
  },
  {
   "cell_type": "code",
   "execution_count": 790,
   "metadata": {},
   "outputs": [
    {
     "name": "stdout",
     "output_type": "stream",
     "text": [
      "Fitting 5 folds for each of 12 candidates, totalling 60 fits\n"
     ]
    },
    {
     "name": "stderr",
     "output_type": "stream",
     "text": [
      "[Parallel(n_jobs=-1)]: Done  24 tasks      | elapsed:   13.9s\n",
      "[Parallel(n_jobs=-1)]: Done  60 out of  60 | elapsed:   27.2s finished\n"
     ]
    },
    {
     "data": {
      "text/plain": [
       "GridSearchCV(cv=5, error_score='raise',\n",
       "       estimator=XGBClassifier(base_score=0.5, booster='gbtree', colsample_bylevel=1,\n",
       "       colsample_bytree=0.8, gamma=0, learning_rate=0.1, max_delta_step=0,\n",
       "       max_depth=3, min_child_weight=1, missing=None, n_estimators=1000,\n",
       "       n_jobs=1, nthread=None, objective='binary:logistic', random_state=0,\n",
       "       reg_alpha=0, reg_lambda=1, scale_pos_weight=1, seed=42, silent=True,\n",
       "       subsample=0.8),\n",
       "       fit_params=None, iid=True, n_jobs=-1,\n",
       "       param_grid={'max_depth': range(3, 10, 2), 'min_child_weight': range(1, 6, 2)},\n",
       "       pre_dispatch='2*n_jobs', refit=True, return_train_score='warn',\n",
       "       scoring='roc_auc', verbose=3)"
      ]
     },
     "execution_count": 790,
     "metadata": {},
     "output_type": "execute_result"
    }
   ],
   "source": [
    "param_test1 = {\n",
    "    'max_depth' : range(3, 10, 2),\n",
    "    'min_child_weight' : range(1,6,2)\n",
    "}\n",
    "\n",
    "gsearch1 = GridSearchCV(estimator=xgb.XGBClassifier(\n",
    "    learning_rate=0.1,\n",
    "    n_estimators=1000,\n",
    "    gamma=0,\n",
    "    subsample=0.8,\n",
    "    colsample_bytree=0.8,\n",
    "    objective= 'binary:logistic',\n",
    "    scale_pos_weight=1,\n",
    "    seed=42), param_grid=param_test1, scoring='roc_auc',n_jobs=-1, cv=5, verbose=3)\n",
    "\n",
    "gsearch1.fit(X_train, y_train)"
   ]
  },
  {
   "cell_type": "code",
   "execution_count": 791,
   "metadata": {},
   "outputs": [
    {
     "data": {
      "text/plain": [
       "({'max_depth': 3, 'min_child_weight': 5}, 0.879601224316023)"
      ]
     },
     "execution_count": 791,
     "metadata": {},
     "output_type": "execute_result"
    }
   ],
   "source": [
    "gsearch1.best_params_, gsearch1.best_score_"
   ]
  },
  {
   "cell_type": "code",
   "execution_count": 842,
   "metadata": {},
   "outputs": [
    {
     "name": "stdout",
     "output_type": "stream",
     "text": [
      "Fitting 5 folds for each of 28 candidates, totalling 140 fits\n"
     ]
    },
    {
     "name": "stderr",
     "output_type": "stream",
     "text": [
      "[Parallel(n_jobs=-1)]: Done  24 tasks      | elapsed:   17.0s\n",
      "[Parallel(n_jobs=-1)]: Done 120 tasks      | elapsed:  1.2min\n",
      "[Parallel(n_jobs=-1)]: Done 140 out of 140 | elapsed:  1.4min finished\n"
     ]
    },
    {
     "data": {
      "text/plain": [
       "GridSearchCV(cv=5, error_score='raise',\n",
       "       estimator=XGBClassifier(base_score=0.5, booster='gbtree', colsample_bylevel=1,\n",
       "       colsample_bytree=0.8, gamma=0, learning_rate=0.1, max_delta_step=0,\n",
       "       max_depth=3, min_child_weight=1, missing=None, n_estimators=1000,\n",
       "       n_jobs=1, nthread=None, objective='binary:logistic', random_state=0,\n",
       "       reg_alpha=0, reg_lambda=1, scale_pos_weight=1, seed=42, silent=True,\n",
       "       subsample=0.8),\n",
       "       fit_params=None, iid=True, n_jobs=-1,\n",
       "       param_grid={'max_depth': [1, 2, 7, 8, 9, 10, 15], 'min_child_weight': [1, 2, 3, 8]},\n",
       "       pre_dispatch='2*n_jobs', refit=True, return_train_score='warn',\n",
       "       scoring='roc_auc', verbose=3)"
      ]
     },
     "execution_count": 842,
     "metadata": {},
     "output_type": "execute_result"
    }
   ],
   "source": [
    "param_test2 = {\n",
    "    'max_depth' : [1, 2, 7, 8, 9, 10, 15],\n",
    "    'min_child_weight' : [1, 2, 3, 8]\n",
    "}\n",
    "\n",
    "gsearch2 = GridSearchCV(estimator=xgb.XGBClassifier(\n",
    "    learning_rate=0.1,\n",
    "    n_estimators=1000,\n",
    "    gamma=0,\n",
    "    subsample=0.8,\n",
    "    colsample_bytree=0.8,\n",
    "    objective= 'binary:logistic',\n",
    "    scale_pos_weight=1,\n",
    "    seed=42), param_grid=param_test2, scoring='roc_auc',n_jobs=-1, cv=5, verbose=3)\n",
    "\n",
    "gsearch2.fit(X_train, y_train)"
   ]
  },
  {
   "cell_type": "code",
   "execution_count": 850,
   "metadata": {},
   "outputs": [
    {
     "data": {
      "text/plain": [
       "({'max_depth': 2, 'min_child_weight': 8}, 0.883984543728295)"
      ]
     },
     "execution_count": 850,
     "metadata": {},
     "output_type": "execute_result"
    }
   ],
   "source": [
    "gsearch2.best_params_, gsearch2.best_score_"
   ]
  },
  {
   "cell_type": "code",
   "execution_count": 841,
   "metadata": {},
   "outputs": [
    {
     "name": "stderr",
     "output_type": "stream",
     "text": [
      "c:\\users\\bennej~1\\docume~1\\ml\\env\\lib\\site-packages\\sklearn\\preprocessing\\label.py:151: DeprecationWarning: The truth value of an empty array is ambiguous. Returning False, but in future this will result in an error. Use `array.size > 0` to check that an array is not empty.\n",
      "  if diff:\n"
     ]
    },
    {
     "name": "stdout",
     "output_type": "stream",
     "text": [
      "Model Report\n",
      "Accuracy : 0.8923\n",
      "AUC Score : 0.943824\n"
     ]
    },
    {
     "data": {
      "image/png": "[encoded data removed]",
      "text/plain": [
       "<matplotlib.figure.Figure at 0x2168c3dd1d0>"
      ]
     },
     "metadata": {},
     "output_type": "display_data"
    }
   ],
   "source": [
    "xgb1_5 = xgb.XGBClassifier(\n",
    "    learning_rate=0.1,\n",
    "    n_estimators=1000,\n",
    "    max_depht=2,\n",
    "    min_child_weight=8,\n",
    "    subsample=0.8,\n",
    "    colsample_bytree=0.8,\n",
    "    objective= 'binary:logistic',\n",
    "    scale_pos_weight=1,\n",
    "    gamma=0,\n",
    "    seed=42)\n",
    "model_fit(xgb1_5, X_train, y_train)"
   ]
  },
  {
   "cell_type": "markdown",
   "metadata": {},
   "source": [
    "Tuning **Gamma**"
   ]
  },
  {
   "cell_type": "code",
   "execution_count": 851,
   "metadata": {},
   "outputs": [
    {
     "name": "stdout",
     "output_type": "stream",
     "text": [
      "Fitting 5 folds for each of 10 candidates, totalling 50 fits\n"
     ]
    },
    {
     "name": "stderr",
     "output_type": "stream",
     "text": [
      "[Parallel(n_jobs=-1)]: Done  24 tasks      | elapsed:   12.9s\n",
      "[Parallel(n_jobs=-1)]: Done  50 out of  50 | elapsed:   18.0s finished\n"
     ]
    },
    {
     "data": {
      "text/plain": [
       "GridSearchCV(cv=5, error_score='raise',\n",
       "       estimator=XGBClassifier(base_score=0.5, booster='gbtree', colsample_bylevel=1,\n",
       "       colsample_bytree=0.8, gamma=0, learning_rate=0.1, max_delta_step=0,\n",
       "       max_depht=2, max_depth=3, min_child_weight=8, missing=None,\n",
       "       n_estimators=1000, n_jobs=1, nthread=None,\n",
       "       objective='binary:logistic', random_state=0, reg_alpha=0,\n",
       "       reg_lambda=1, scale_pos_weight=1, seed=42, silent=True,\n",
       "       subsample=0.8),\n",
       "       fit_params=None, iid=True, n_jobs=-1,\n",
       "       param_grid={'gamma': [0.1, 0.2, 0.3, 0.4, 0.5, 0.6, 0.7, 0.8, 0.9, 1.0]},\n",
       "       pre_dispatch='2*n_jobs', refit=True, return_train_score='warn',\n",
       "       scoring='roc_auc', verbose=3)"
      ]
     },
     "execution_count": 851,
     "metadata": {},
     "output_type": "execute_result"
    }
   ],
   "source": [
    "param_test4 = {\n",
    "    'gamma': [i / 10 for i in range(1, 11)]\n",
    "}\n",
    "\n",
    "gsearch4 = GridSearchCV(estimator=xgb.XGBClassifier(\n",
    "    learning_rate=0.1,\n",
    "    n_estimators=1000,\n",
    "    max_depht=2,\n",
    "    min_child_weight=8,\n",
    "    subsample=0.8,\n",
    "    colsample_bytree=0.8,\n",
    "    objective= 'binary:logistic',\n",
    "    scale_pos_weight=1,\n",
    "    seed=42), param_grid=param_test4, scoring='roc_auc',n_jobs=-1, cv=5, verbose=3)\n",
    "\n",
    "gsearch4.fit(X_train, y_train)"
   ]
  },
  {
   "cell_type": "code",
   "execution_count": 853,
   "metadata": {},
   "outputs": [
    {
     "data": {
      "text/plain": [
       "({'gamma': 0.2}, 0.8837453783604858)"
      ]
     },
     "execution_count": 853,
     "metadata": {},
     "output_type": "execute_result"
    }
   ],
   "source": [
    "gsearch4.best_params_, gsearch4.best_score_"
   ]
  },
  {
   "cell_type": "code",
   "execution_count": 856,
   "metadata": {},
   "outputs": [
    {
     "name": "stdout",
     "output_type": "stream",
     "text": [
      "Fitting 5 folds for each of 20 candidates, totalling 100 fits\n"
     ]
    },
    {
     "name": "stderr",
     "output_type": "stream",
     "text": [
      "[Parallel(n_jobs=-1)]: Done  24 tasks      | elapsed:    8.8s\n",
      "[Parallel(n_jobs=-1)]: Done 100 out of 100 | elapsed:   25.7s finished\n"
     ]
    },
    {
     "data": {
      "text/plain": [
       "GridSearchCV(cv=5, error_score='raise',\n",
       "       estimator=XGBClassifier(base_score=0.5, booster='gbtree', colsample_bylevel=1,\n",
       "       colsample_bytree=0.8, gamma=0, learning_rate=0.1, max_delta_step=0,\n",
       "       max_depht=2, max_depth=3, min_child_weight=8, missing=None,\n",
       "       n_estimators=1000, n_jobs=1, nthread=None,\n",
       "       objective='binary:logistic', random_state=0, reg_alpha=0,\n",
       "       reg_lambda=1, scale_pos_weight=1, seed=42, silent=True,\n",
       "       subsample=0.8),\n",
       "       fit_params=None, iid=True, n_jobs=-1,\n",
       "       param_grid={'gamma': [0.1, 0.11, 0.12, 0.13, 0.14, 0.15, 0.16, 0.17, 0.18, 0.19, 0.2, 0.21, 0.22, 0.23, 0.24, 0.25, 0.26, 0.27, 0.28, 0.29]},\n",
       "       pre_dispatch='2*n_jobs', refit=True, return_train_score='warn',\n",
       "       scoring='roc_auc', verbose=3)"
      ]
     },
     "execution_count": 856,
     "metadata": {},
     "output_type": "execute_result"
    }
   ],
   "source": [
    "param_test5 = {\n",
    "    'gamma': [i / 100 for i in range(10, 30)]\n",
    "}\n",
    "\n",
    "gsearch5 = GridSearchCV(estimator=xgb.XGBClassifier(\n",
    "    learning_rate=0.1,\n",
    "    n_estimators=1000,\n",
    "    max_depht=2,\n",
    "    min_child_weight=8,\n",
    "    subsample=0.8,\n",
    "    colsample_bytree=0.8,\n",
    "    objective= 'binary:logistic',\n",
    "    scale_pos_weight=1,\n",
    "    seed=42), param_grid=param_test5, scoring='roc_auc',n_jobs=-1, cv=5, verbose=3)\n",
    "\n",
    "gsearch5.fit(X_train, y_train)"
   ]
  },
  {
   "cell_type": "code",
   "execution_count": 857,
   "metadata": {},
   "outputs": [
    {
     "data": {
      "text/plain": [
       "({'gamma': 0.26}, 0.8837998551849264)"
      ]
     },
     "execution_count": 857,
     "metadata": {},
     "output_type": "execute_result"
    }
   ],
   "source": [
    "gsearch5.best_params_, gsearch5.best_score_"
   ]
  },
  {
   "cell_type": "markdown",
   "metadata": {},
   "source": [
    "Values so far:\n",
    "<ul>\n",
    "    <li>max_depth: 2</li>\n",
    "    <li>min_child_weight: 8</li>\n",
    "    <li>Gamma: 0.26</li>\n",
    "<ul>"
   ]
  },
  {
   "cell_type": "markdown",
   "metadata": {},
   "source": [
    "Tuning subsample and colsample_bytree"
   ]
  },
  {
   "cell_type": "code",
   "execution_count": 858,
   "metadata": {},
   "outputs": [
    {
     "name": "stdout",
     "output_type": "stream",
     "text": [
      "Fitting 5 folds for each of 36 candidates, totalling 180 fits\n"
     ]
    },
    {
     "name": "stderr",
     "output_type": "stream",
     "text": [
      "[Parallel(n_jobs=-1)]: Done  24 tasks      | elapsed:    7.9s\n",
      "[Parallel(n_jobs=-1)]: Done 120 tasks      | elapsed:   34.4s\n",
      "[Parallel(n_jobs=-1)]: Done 180 out of 180 | elapsed:   52.5s finished\n"
     ]
    },
    {
     "data": {
      "text/plain": [
       "GridSearchCV(cv=5, error_score='raise',\n",
       "       estimator=XGBClassifier(base_score=0.5, booster='gbtree', colsample_bylevel=1,\n",
       "       colsample_bytree=1, gamma=0.26, learning_rate=0.1, max_delta_step=0,\n",
       "       max_depht=2, max_depth=3, min_child_weight=8, missing=None,\n",
       "       n_estimators=1000, n_jobs=1, nthread=None,\n",
       "       objective='binary:logistic', random_state=0, reg_alpha=0,\n",
       "       reg_lambda=1, scale_pos_weight=1, seed=42, silent=True, subsample=1),\n",
       "       fit_params=None, iid=True, n_jobs=-1,\n",
       "       param_grid={'subsample': [0.5, 0.6, 0.7, 0.8, 0.9, 1.0], 'colsample_bytree': [0.5, 0.6, 0.7, 0.8, 0.9, 1.0]},\n",
       "       pre_dispatch='2*n_jobs', refit=True, return_train_score='warn',\n",
       "       scoring='roc_auc', verbose=3)"
      ]
     },
     "execution_count": 858,
     "metadata": {},
     "output_type": "execute_result"
    }
   ],
   "source": [
    "param_test6 = {\n",
    "    'subsample': [i / 10 for i in range(5, 11)],\n",
    "    'colsample_bytree' : [i / 10 for i in range(5, 11)]\n",
    "}\n",
    "\n",
    "gsearch6 = GridSearchCV(estimator=xgb.XGBClassifier(\n",
    "    learning_rate=0.1,\n",
    "    n_estimators=1000,\n",
    "    max_depht=2,\n",
    "    min_child_weight=8,\n",
    "    gamma=0.26,\n",
    "    objective= 'binary:logistic',\n",
    "    scale_pos_weight=1,\n",
    "    seed=42), param_grid=param_test6, scoring='roc_auc',n_jobs=-1, cv=5, verbose=3)\n",
    "\n",
    "gsearch6.fit(X_train, y_train)"
   ]
  },
  {
   "cell_type": "code",
   "execution_count": 860,
   "metadata": {},
   "outputs": [
    {
     "data": {
      "text/plain": [
       "({'colsample_bytree': 0.6, 'subsample': 0.7}, 0.8841793727087512)"
      ]
     },
     "execution_count": 860,
     "metadata": {},
     "output_type": "execute_result"
    }
   ],
   "source": [
    "gsearch6.best_params_, gsearch6.best_score_"
   ]
  },
  {
   "cell_type": "code",
   "execution_count": 861,
   "metadata": {},
   "outputs": [
    {
     "name": "stdout",
     "output_type": "stream",
     "text": [
      "Fitting 5 folds for each of 441 candidates, totalling 2205 fits\n"
     ]
    },
    {
     "name": "stderr",
     "output_type": "stream",
     "text": [
      "[Parallel(n_jobs=-1)]: Done  24 tasks      | elapsed:    7.9s\n",
      "[Parallel(n_jobs=-1)]: Done 120 tasks      | elapsed:   28.1s\n",
      "[Parallel(n_jobs=-1)]: Done 280 tasks      | elapsed:  1.2min\n",
      "[Parallel(n_jobs=-1)]: Done 504 tasks      | elapsed:  2.0min\n",
      "[Parallel(n_jobs=-1)]: Done 792 tasks      | elapsed:  3.1min\n",
      "[Parallel(n_jobs=-1)]: Done 1144 tasks      | elapsed:  4.7min\n",
      "[Parallel(n_jobs=-1)]: Done 1560 tasks      | elapsed:  6.7min\n",
      "[Parallel(n_jobs=-1)]: Done 2040 tasks      | elapsed:  9.6min\n",
      "[Parallel(n_jobs=-1)]: Done 2205 out of 2205 | elapsed: 10.5min finished\n"
     ]
    },
    {
     "data": {
      "text/plain": [
       "GridSearchCV(cv=5, error_score='raise',\n",
       "       estimator=XGBClassifier(base_score=0.5, booster='gbtree', colsample_bylevel=1,\n",
       "       colsample_bytree=1, gamma=0.26, learning_rate=0.1, max_delta_step=0,\n",
       "       max_depht=2, max_depth=3, min_child_weight=8, missing=None,\n",
       "       n_estimators=1000, n_jobs=1, nthread=None,\n",
       "       objective='binary:logistic', random_state=0, reg_alpha=0,\n",
       "       reg_lambda=1, scale_pos_weight=1, seed=42, silent=True, subsample=1),\n",
       "       fit_params=None, iid=True, n_jobs=-1,\n",
       "       param_grid={'subsample': [0.6, 0.61, 0.62, 0.63, 0.64, 0.65, 0.66, 0.67, 0.68, 0.69, 0.7, 0.71, 0.72, 0.73, 0.74, 0.75, 0.76, 0.77, 0.78, 0.79, 0.8], 'colsample_bytree': [0.5, 0.51, 0.52, 0.53, 0.54, 0.55, 0.56, 0.57, 0.58, 0.59, 0.6, 0.61, 0.62, 0.63, 0.64, 0.65, 0.66, 0.67, 0.68, 0.69, 0.7]},\n",
       "       pre_dispatch='2*n_jobs', refit=True, return_train_score='warn',\n",
       "       scoring='roc_auc', verbose=3)"
      ]
     },
     "execution_count": 861,
     "metadata": {},
     "output_type": "execute_result"
    }
   ],
   "source": [
    "param_test7 = {\n",
    "    'subsample': [i / 100 for i in range(60, 81)],\n",
    "    'colsample_bytree' : [i / 100 for i in range(50, 71)]\n",
    "}\n",
    "\n",
    "gsearch7 = GridSearchCV(estimator=xgb.XGBClassifier(\n",
    "    learning_rate=0.1,\n",
    "    n_estimators=1000,\n",
    "    max_depht=2,\n",
    "    min_child_weight=8,\n",
    "    gamma=0.26,\n",
    "    objective= 'binary:logistic',\n",
    "    scale_pos_weight=1,\n",
    "    seed=42), param_grid=param_test7, scoring='roc_auc',n_jobs=-1, cv=5, verbose=3)\n",
    "\n",
    "gsearch7.fit(X_train, y_train)"
   ]
  },
  {
   "cell_type": "code",
   "execution_count": 862,
   "metadata": {},
   "outputs": [
    {
     "data": {
      "text/plain": [
       "({'colsample_bytree': 0.55, 'subsample': 0.63}, 0.8855914782788756)"
      ]
     },
     "execution_count": 862,
     "metadata": {},
     "output_type": "execute_result"
    }
   ],
   "source": [
    "gsearch7.best_params_, gsearch7.best_score_"
   ]
  },
  {
   "cell_type": "markdown",
   "metadata": {},
   "source": [
    "Testing results so far"
   ]
  },
  {
   "cell_type": "markdown",
   "metadata": {},
   "source": [
    "Values so far:\n",
    "<ul>\n",
    "    <li>max_depth: 2</li>\n",
    "    <li>min_child_weight: 8</li>\n",
    "    <li>Gamma: 0.26</li>\n",
    "    <li>subsample: 0.63</li>\n",
    "    <li>colsample_bytree: 0.55</li>\n",
    "<ul>"
   ]
  },
  {
   "cell_type": "code",
   "execution_count": 863,
   "metadata": {},
   "outputs": [
    {
     "name": "stdout",
     "output_type": "stream",
     "text": [
      "Model Report\n",
      "Accuracy : 0.8822\n",
      "AUC Score : 0.932517\n"
     ]
    },
    {
     "name": "stderr",
     "output_type": "stream",
     "text": [
      "c:\\users\\bennej~1\\docume~1\\ml\\env\\lib\\site-packages\\sklearn\\preprocessing\\label.py:151: DeprecationWarning: The truth value of an empty array is ambiguous. Returning False, but in future this will result in an error. Use `array.size > 0` to check that an array is not empty.\n",
      "  if diff:\n"
     ]
    },
    {
     "data": {
      "image/png": "[encoded data removed]",
      "text/plain": [
       "<matplotlib.figure.Figure at 0x2168c490710>"
      ]
     },
     "metadata": {},
     "output_type": "display_data"
    }
   ],
   "source": [
    "xgb2 = xgb.XGBClassifier(\n",
    "    learning_rate=0.1,\n",
    "    n_estimators=1000,\n",
    "    max_depth=2,\n",
    "    min_child_weight=8,\n",
    "    gamma=0.26,\n",
    "    subsample=0.63,\n",
    "    colsample_bytree=0.55,\n",
    "    objective= 'binary:logistic',\n",
    "    nthread=4,\n",
    "    scale_pos_weight=1,\n",
    "    seed=42\n",
    ")\n",
    "model_fit(xgb2, X_train, y_train)"
   ]
  },
  {
   "cell_type": "markdown",
   "metadata": {},
   "source": [
    "Tuning alpha"
   ]
  },
  {
   "cell_type": "code",
   "execution_count": 864,
   "metadata": {},
   "outputs": [
    {
     "name": "stdout",
     "output_type": "stream",
     "text": [
      "Fitting 5 folds for each of 5 candidates, totalling 25 fits\n"
     ]
    },
    {
     "name": "stderr",
     "output_type": "stream",
     "text": [
      "[Parallel(n_jobs=-1)]: Done  25 out of  25 | elapsed:   17.7s finished\n"
     ]
    },
    {
     "data": {
      "text/plain": [
       "GridSearchCV(cv=5, error_score='raise',\n",
       "       estimator=XGBClassifier(base_score=0.5, booster='gbtree', colsample_bylevel=1,\n",
       "       colsample_bytree=0.55, gamma=0.26, learning_rate=0.1,\n",
       "       max_delta_step=0, max_depth=2, min_child_weight=8, missing=None,\n",
       "       n_estimators=1000, n_jobs=1, nthread=4, objective='binary:logistic',\n",
       "       random_state=0, reg_alpha=0, reg_lambda=1, scale_pos_weight=1,\n",
       "       seed=42, silent=True, subsample=0.63),\n",
       "       fit_params=None, iid=True, n_jobs=-1,\n",
       "       param_grid={'reg_alpha': [0, 0.001, 0.005, 0.1, 0.05]},\n",
       "       pre_dispatch='2*n_jobs', refit=True, return_train_score='warn',\n",
       "       scoring='roc_auc', verbose=3)"
      ]
     },
     "execution_count": 864,
     "metadata": {},
     "output_type": "execute_result"
    }
   ],
   "source": [
    "param_test8 = {\n",
    "    'reg_alpha': [0, 0.001, 0.005, 0.1, 0.05]\n",
    "}\n",
    "\n",
    "gsearch8 = GridSearchCV(estimator=xgb.XGBClassifier(\n",
    "    learning_rate=0.1,\n",
    "    n_estimators=1000,\n",
    "    max_depth=2,\n",
    "    min_child_weight=8,\n",
    "    gamma=0.26,\n",
    "    subsample=0.63,\n",
    "    colsample_bytree=0.55,\n",
    "    objective= 'binary:logistic',\n",
    "    nthread=4,\n",
    "    scale_pos_weight=1,\n",
    "    seed=42\n",
    "), param_grid=param_test8, scoring='roc_auc',n_jobs=-1, cv=5, verbose=3)\n",
    "\n",
    "gsearch8.fit(X_train, y_train)"
   ]
  },
  {
   "cell_type": "code",
   "execution_count": 865,
   "metadata": {},
   "outputs": [
    {
     "data": {
      "text/plain": [
       "({'reg_alpha': 0}, 0.8847087324124705)"
      ]
     },
     "execution_count": 865,
     "metadata": {},
     "output_type": "execute_result"
    }
   ],
   "source": [
    "gsearch8.best_params_, gsearch8.best_score_"
   ]
  },
  {
   "cell_type": "markdown",
   "metadata": {},
   "source": [
    "Finally, Reducing the learning rate"
   ]
  },
  {
   "cell_type": "code",
   "execution_count": 882,
   "metadata": {},
   "outputs": [
    {
     "name": "stdout",
     "output_type": "stream",
     "text": [
      "Model Report\n",
      "Accuracy : 0.881\n",
      "AUC Score : 0.937571\n"
     ]
    },
    {
     "name": "stderr",
     "output_type": "stream",
     "text": [
      "c:\\users\\bennej~1\\docume~1\\ml\\env\\lib\\site-packages\\sklearn\\preprocessing\\label.py:151: DeprecationWarning: The truth value of an empty array is ambiguous. Returning False, but in future this will result in an error. Use `array.size > 0` to check that an array is not empty.\n",
      "  if diff:\n"
     ]
    },
    {
     "data": {
      "image/png": "[encoded data removed]",
      "text/plain": [
       "<matplotlib.figure.Figure at 0x2168c4bc6a0>"
      ]
     },
     "metadata": {},
     "output_type": "display_data"
    }
   ],
   "source": [
    "xgb2 = xgb.XGBClassifier(\n",
    "    learning_rate=0.5,\n",
    "    n_estimators=5000,\n",
    "    max_depth=2,\n",
    "    min_child_weight=8,\n",
    "    gamma=0.26,\n",
    "    subsample=0.63,\n",
    "    colsample_bytree=0.55,\n",
    "    objective= 'binary:logistic',\n",
    "    nthread=4,\n",
    "    scale_pos_weight=1,\n",
    "    reg_alpha=0,\n",
    "    seed=42\n",
    ")\n",
    "model_fit(xgb2, X_train, y_train)"
   ]
  },
  {
   "cell_type": "code",
   "execution_count": 883,
   "metadata": {},
   "outputs": [
    {
     "name": "stderr",
     "output_type": "stream",
     "text": [
      "c:\\users\\bennej~1\\docume~1\\ml\\env\\lib\\site-packages\\sklearn\\preprocessing\\label.py:151: DeprecationWarning: The truth value of an empty array is ambiguous. Returning False, but in future this will result in an error. Use `array.size > 0` to check that an array is not empty.\n",
      "  if diff:\n"
     ]
    },
    {
     "name": "stdout",
     "output_type": "stream",
     "text": [
      "Model Report\n",
      "Accuracy : 0.8709\n",
      "AUC Score : 0.925116\n"
     ]
    },
    {
     "data": {
      "image/png": "[encoded data removed]",
      "text/plain": [
       "<matplotlib.figure.Figure at 0x2168e90f2b0>"
      ]
     },
     "metadata": {},
     "output_type": "display_data"
    }
   ],
   "source": [
    "model_fit(xgb_clf, X_train, y_train)"
   ]
  },
  {
   "cell_type": "code",
   "execution_count": 884,
   "metadata": {},
   "outputs": [
    {
     "name": "stderr",
     "output_type": "stream",
     "text": [
      "c:\\users\\bennej~1\\docume~1\\ml\\env\\lib\\site-packages\\sklearn\\preprocessing\\label.py:151: DeprecationWarning: The truth value of an empty array is ambiguous. Returning False, but in future this will result in an error. Use `array.size > 0` to check that an array is not empty.\n",
      "  if diff:\n"
     ]
    }
   ],
   "source": [
    "submit(xgb2, test_dataset, 'final_xgb.csv')"
   ]
  },
  {
   "cell_type": "code",
   "execution_count": 885,
   "metadata": {},
   "outputs": [
    {
     "name": "stderr",
     "output_type": "stream",
     "text": [
      "c:\\users\\bennej~1\\docume~1\\ml\\env\\lib\\site-packages\\sklearn\\preprocessing\\label.py:151: DeprecationWarning: The truth value of an empty array is ambiguous. Returning False, but in future this will result in an error. Use `array.size > 0` to check that an array is not empty.\n",
      "  if diff:\n"
     ]
    }
   ],
   "source": [
    "submit(xgb_clf,test_dataset, 'xgb_base_line.csv')"
   ]
  },
  {
   "cell_type": "markdown",
   "metadata": {},
   "source": [
    "Ensembling"
   ]
  },
  {
   "cell_type": "code",
   "execution_count": 887,
   "metadata": {},
   "outputs": [],
   "source": [
    "xgb_best = xgb.XGBClassifier(\n",
    "    learning_rate=0.5,\n",
    "    n_estimators=5000,\n",
    "    max_depth=2,\n",
    "    min_child_weight=8,\n",
    "    gamma=0.26,\n",
    "    subsample=0.63,\n",
    "    colsample_bytree=0.55,\n",
    "    objective= 'binary:logistic',\n",
    "    nthread=4,\n",
    "    scale_pos_weight=1,\n",
    "    reg_alpha=0,\n",
    "    seed=42\n",
    ")"
   ]
  },
  {
   "cell_type": "code",
   "execution_count": 890,
   "metadata": {},
   "outputs": [],
   "source": [
    "ada_best = grid_search_adaboost.best_estimator_"
   ]
  },
  {
   "cell_type": "code",
   "execution_count": 891,
   "metadata": {},
   "outputs": [],
   "source": [
    "rf_best = grid_search.best_estimator_"
   ]
  },
  {
   "cell_type": "code",
   "execution_count": 895,
   "metadata": {},
   "outputs": [
    {
     "data": {
      "text/plain": [
       "VotingClassifier(estimators=[('xgb', XGBClassifier(base_score=0.5, booster='gbtree', colsample_bylevel=1,\n",
       "       colsample_bytree=0.55, gamma=0.26, learning_rate=0.5,\n",
       "       max_delta_step=0, max_depth=2, min_child_weight=8, missing=None,\n",
       "       n_estimators=5000, n_jobs=1, nthread=4, objective='binary:logistic',\n",
       "  ...n_jobs=1,\n",
       "            oob_score=False, random_state=None, verbose=0,\n",
       "            warm_start=False))],\n",
       "         flatten_transform=None, n_jobs=-1, voting='hard', weights=None)"
      ]
     },
     "execution_count": 895,
     "metadata": {},
     "output_type": "execute_result"
    }
   ],
   "source": [
    "from sklearn.ensemble import VotingClassifier\n",
    "\n",
    "votingC = VotingClassifier(estimators=[('xgb', xgb_best), ('ada', ada_best), ('rf', rf_best)], voting='hard', n_jobs=-1)\n",
    "votingC.fit(X_train, y_train)"
   ]
  },
  {
   "cell_type": "code",
   "execution_count": 896,
   "metadata": {},
   "outputs": [
    {
     "name": "stderr",
     "output_type": "stream",
     "text": [
      "c:\\users\\bennej~1\\docume~1\\ml\\env\\lib\\site-packages\\sklearn\\preprocessing\\label.py:151: DeprecationWarning: The truth value of an empty array is ambiguous. Returning False, but in future this will result in an error. Use `array.size > 0` to check that an array is not empty.\n",
      "  if diff:\n",
      "c:\\users\\bennej~1\\docume~1\\ml\\env\\lib\\site-packages\\sklearn\\preprocessing\\label.py:151: DeprecationWarning: The truth value of an empty array is ambiguous. Returning False, but in future this will result in an error. Use `array.size > 0` to check that an array is not empty.\n",
      "  if diff:\n"
     ]
    }
   ],
   "source": [
    "submit(votingC, test_dataset, 'first_ensemble.csv')"
   ]
  }
 ],
 "metadata": {
  "kernelspec": {
   "display_name": "Python 3",
   "language": "python",
   "name": "python3"
  },
  "language_info": {
   "codemirror_mode": {
    "name": "ipython",
    "version": 3
   },
   "file_extension": ".py",
   "mimetype": "text/x-python",
   "name": "python",
   "nbconvert_exporter": "python",
   "pygments_lexer": "ipython3",
   "version": "3.6.1"
  }
 },
 "nbformat": 4,
 "nbformat_minor": 2
}
